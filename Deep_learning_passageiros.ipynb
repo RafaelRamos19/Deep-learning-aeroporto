{
  "nbformat": 4,
  "nbformat_minor": 0,
  "metadata": {
    "colab": {
      "provenance": [],
      "authorship_tag": "ABX9TyM/jHmXhUXzyHv/8WEOKhtq",
      "include_colab_link": true
    },
    "kernelspec": {
      "name": "python3",
      "display_name": "Python 3"
    },
    "language_info": {
      "name": "python"
    }
  },
  "cells": [
    {
      "cell_type": "markdown",
      "metadata": {
        "id": "view-in-github",
        "colab_type": "text"
      },
      "source": [
        "<a href=\"https://colab.research.google.com/github/RafaelRamos19/Deep-learning-aeroporto/blob/main/Deep_learning_passageiros.ipynb\" target=\"_parent\"><img src=\"https://colab.research.google.com/assets/colab-badge.svg\" alt=\"Open In Colab\"/></a>"
      ]
    },
    {
      "cell_type": "code",
      "source": [
        "import pandas as pd\n",
        "import seaborn as sns\n",
        "import matplotlib as mpl\n",
        "import matplotlib.pyplot as plt\n",
        "\n"
      ],
      "metadata": {
        "id": "dBX1NiolqBHc"
      },
      "execution_count": null,
      "outputs": []
    },
    {
      "cell_type": "code",
      "execution_count": null,
      "metadata": {
        "colab": {
          "base_uri": "https://localhost:8080/",
          "height": 424
        },
        "id": "SkogYpdap3Xh",
        "outputId": "46b3d5c3-010f-4dee-84f5-d9fad7c2a6ab"
      },
      "outputs": [
        {
          "output_type": "execute_result",
          "data": {
            "text/plain": [
              "           tempo  passageiros\n",
              "0    1949.000000          112\n",
              "1    1949.083333          118\n",
              "2    1949.166667          132\n",
              "3    1949.250000          129\n",
              "4    1949.333333          121\n",
              "..           ...          ...\n",
              "139  1960.583333          606\n",
              "140  1960.666667          508\n",
              "141  1960.750000          461\n",
              "142  1960.833333          390\n",
              "143  1960.916667          432\n",
              "\n",
              "[144 rows x 2 columns]"
            ],
            "text/html": [
              "\n",
              "  <div id=\"df-cf926933-b4a2-46f9-9ae4-df4c14e88f57\">\n",
              "    <div class=\"colab-df-container\">\n",
              "      <div>\n",
              "<style scoped>\n",
              "    .dataframe tbody tr th:only-of-type {\n",
              "        vertical-align: middle;\n",
              "    }\n",
              "\n",
              "    .dataframe tbody tr th {\n",
              "        vertical-align: top;\n",
              "    }\n",
              "\n",
              "    .dataframe thead th {\n",
              "        text-align: right;\n",
              "    }\n",
              "</style>\n",
              "<table border=\"1\" class=\"dataframe\">\n",
              "  <thead>\n",
              "    <tr style=\"text-align: right;\">\n",
              "      <th></th>\n",
              "      <th>tempo</th>\n",
              "      <th>passageiros</th>\n",
              "    </tr>\n",
              "  </thead>\n",
              "  <tbody>\n",
              "    <tr>\n",
              "      <th>0</th>\n",
              "      <td>1949.000000</td>\n",
              "      <td>112</td>\n",
              "    </tr>\n",
              "    <tr>\n",
              "      <th>1</th>\n",
              "      <td>1949.083333</td>\n",
              "      <td>118</td>\n",
              "    </tr>\n",
              "    <tr>\n",
              "      <th>2</th>\n",
              "      <td>1949.166667</td>\n",
              "      <td>132</td>\n",
              "    </tr>\n",
              "    <tr>\n",
              "      <th>3</th>\n",
              "      <td>1949.250000</td>\n",
              "      <td>129</td>\n",
              "    </tr>\n",
              "    <tr>\n",
              "      <th>4</th>\n",
              "      <td>1949.333333</td>\n",
              "      <td>121</td>\n",
              "    </tr>\n",
              "    <tr>\n",
              "      <th>...</th>\n",
              "      <td>...</td>\n",
              "      <td>...</td>\n",
              "    </tr>\n",
              "    <tr>\n",
              "      <th>139</th>\n",
              "      <td>1960.583333</td>\n",
              "      <td>606</td>\n",
              "    </tr>\n",
              "    <tr>\n",
              "      <th>140</th>\n",
              "      <td>1960.666667</td>\n",
              "      <td>508</td>\n",
              "    </tr>\n",
              "    <tr>\n",
              "      <th>141</th>\n",
              "      <td>1960.750000</td>\n",
              "      <td>461</td>\n",
              "    </tr>\n",
              "    <tr>\n",
              "      <th>142</th>\n",
              "      <td>1960.833333</td>\n",
              "      <td>390</td>\n",
              "    </tr>\n",
              "    <tr>\n",
              "      <th>143</th>\n",
              "      <td>1960.916667</td>\n",
              "      <td>432</td>\n",
              "    </tr>\n",
              "  </tbody>\n",
              "</table>\n",
              "<p>144 rows × 2 columns</p>\n",
              "</div>\n",
              "      <button class=\"colab-df-convert\" onclick=\"convertToInteractive('df-cf926933-b4a2-46f9-9ae4-df4c14e88f57')\"\n",
              "              title=\"Convert this dataframe to an interactive table.\"\n",
              "              style=\"display:none;\">\n",
              "        \n",
              "  <svg xmlns=\"http://www.w3.org/2000/svg\" height=\"24px\"viewBox=\"0 0 24 24\"\n",
              "       width=\"24px\">\n",
              "    <path d=\"M0 0h24v24H0V0z\" fill=\"none\"/>\n",
              "    <path d=\"M18.56 5.44l.94 2.06.94-2.06 2.06-.94-2.06-.94-.94-2.06-.94 2.06-2.06.94zm-11 1L8.5 8.5l.94-2.06 2.06-.94-2.06-.94L8.5 2.5l-.94 2.06-2.06.94zm10 10l.94 2.06.94-2.06 2.06-.94-2.06-.94-.94-2.06-.94 2.06-2.06.94z\"/><path d=\"M17.41 7.96l-1.37-1.37c-.4-.4-.92-.59-1.43-.59-.52 0-1.04.2-1.43.59L10.3 9.45l-7.72 7.72c-.78.78-.78 2.05 0 2.83L4 21.41c.39.39.9.59 1.41.59.51 0 1.02-.2 1.41-.59l7.78-7.78 2.81-2.81c.8-.78.8-2.07 0-2.86zM5.41 20L4 18.59l7.72-7.72 1.47 1.35L5.41 20z\"/>\n",
              "  </svg>\n",
              "      </button>\n",
              "      \n",
              "  <style>\n",
              "    .colab-df-container {\n",
              "      display:flex;\n",
              "      flex-wrap:wrap;\n",
              "      gap: 12px;\n",
              "    }\n",
              "\n",
              "    .colab-df-convert {\n",
              "      background-color: #E8F0FE;\n",
              "      border: none;\n",
              "      border-radius: 50%;\n",
              "      cursor: pointer;\n",
              "      display: none;\n",
              "      fill: #1967D2;\n",
              "      height: 32px;\n",
              "      padding: 0 0 0 0;\n",
              "      width: 32px;\n",
              "    }\n",
              "\n",
              "    .colab-df-convert:hover {\n",
              "      background-color: #E2EBFA;\n",
              "      box-shadow: 0px 1px 2px rgba(60, 64, 67, 0.3), 0px 1px 3px 1px rgba(60, 64, 67, 0.15);\n",
              "      fill: #174EA6;\n",
              "    }\n",
              "\n",
              "    [theme=dark] .colab-df-convert {\n",
              "      background-color: #3B4455;\n",
              "      fill: #D2E3FC;\n",
              "    }\n",
              "\n",
              "    [theme=dark] .colab-df-convert:hover {\n",
              "      background-color: #434B5C;\n",
              "      box-shadow: 0px 1px 3px 1px rgba(0, 0, 0, 0.15);\n",
              "      filter: drop-shadow(0px 1px 2px rgba(0, 0, 0, 0.3));\n",
              "      fill: #FFFFFF;\n",
              "    }\n",
              "  </style>\n",
              "\n",
              "      <script>\n",
              "        const buttonEl =\n",
              "          document.querySelector('#df-cf926933-b4a2-46f9-9ae4-df4c14e88f57 button.colab-df-convert');\n",
              "        buttonEl.style.display =\n",
              "          google.colab.kernel.accessAllowed ? 'block' : 'none';\n",
              "\n",
              "        async function convertToInteractive(key) {\n",
              "          const element = document.querySelector('#df-cf926933-b4a2-46f9-9ae4-df4c14e88f57');\n",
              "          const dataTable =\n",
              "            await google.colab.kernel.invokeFunction('convertToInteractive',\n",
              "                                                     [key], {});\n",
              "          if (!dataTable) return;\n",
              "\n",
              "          const docLinkHtml = 'Like what you see? Visit the ' +\n",
              "            '<a target=\"_blank\" href=https://colab.research.google.com/notebooks/data_table.ipynb>data table notebook</a>'\n",
              "            + ' to learn more about interactive tables.';\n",
              "          element.innerHTML = '';\n",
              "          dataTable['output_type'] = 'display_data';\n",
              "          await google.colab.output.renderOutput(dataTable, element);\n",
              "          const docLink = document.createElement('div');\n",
              "          docLink.innerHTML = docLinkHtml;\n",
              "          element.appendChild(docLink);\n",
              "        }\n",
              "      </script>\n",
              "    </div>\n",
              "  </div>\n",
              "  "
            ]
          },
          "metadata": {},
          "execution_count": 2
        }
      ],
      "source": [
        "uri = 'https://raw.githubusercontent.com/alura-cursos/deeptime/aula1/Passageiros.csv'\n",
        "passageiros = pd.read_csv(uri)\n",
        "passageiros"
      ]
    },
    {
      "cell_type": "markdown",
      "source": [
        "Com 1/12 = 0.8333, os valores de tempo estão organizados por: numero.mês"
      ],
      "metadata": {
        "id": "CcZv_rJTqhZt"
      }
    },
    {
      "cell_type": "code",
      "source": [
        "mpl.rcParams['figure.figsize'] = (10, 6)\n",
        "mpl.rcParams['font.size'] = 22\n",
        "sns.lineplot(x='tempo',y='passageiros', data = passageiros)"
      ],
      "metadata": {
        "colab": {
          "base_uri": "https://localhost:8080/",
          "height": 425
        },
        "id": "hx6YDXudqL5B",
        "outputId": "62e548d6-4f6a-490e-e483-2cbf3ad5b2d3"
      },
      "execution_count": null,
      "outputs": [
        {
          "output_type": "execute_result",
          "data": {
            "text/plain": [
              "<matplotlib.axes._subplots.AxesSubplot at 0x7f6a39a57390>"
            ]
          },
          "metadata": {},
          "execution_count": 3
        },
        {
          "output_type": "display_data",
          "data": {
            "text/plain": [
              "<Figure size 720x432 with 1 Axes>"
            ],
            "image/png": "[encoded data removed]"
          },
          "metadata": {
            "needs_background": "light"
          }
        }
      ]
    },
    {
      "cell_type": "markdown",
      "source": [
        "## Preprocessamento"
      ],
      "metadata": {
        "id": "aq8WWElDsfng"
      }
    },
    {
      "cell_type": "markdown",
      "source": [
        "Precisamos primeiro normalizar os nossos dados"
      ],
      "metadata": {
        "id": "yswcwK6osl-N"
      }
    },
    {
      "cell_type": "code",
      "source": [
        "from sklearn.preprocessing import StandardScaler"
      ],
      "metadata": {
        "id": "gcDqLgz4s3Km"
      },
      "execution_count": null,
      "outputs": []
    },
    {
      "cell_type": "code",
      "source": [
        "sc = StandardScaler()"
      ],
      "metadata": {
        "id": "eIpION_DrA0d"
      },
      "execution_count": null,
      "outputs": []
    },
    {
      "cell_type": "code",
      "source": [
        "sc.fit(passageiros)"
      ],
      "metadata": {
        "colab": {
          "base_uri": "https://localhost:8080/"
        },
        "id": "QBhUrMjHs_py",
        "outputId": "af839c85-b2d8-4c88-871d-3724e2e2be98"
      },
      "execution_count": null,
      "outputs": [
        {
          "output_type": "execute_result",
          "data": {
            "text/plain": [
              "StandardScaler()"
            ]
          },
          "metadata": {},
          "execution_count": 6
        }
      ]
    },
    {
      "cell_type": "code",
      "source": [
        "dado_escalado = sc.transform(passageiros)"
      ],
      "metadata": {
        "id": "tqKMy3ZNtEkY"
      },
      "execution_count": null,
      "outputs": []
    },
    {
      "cell_type": "markdown",
      "source": [
        "Dados escalados"
      ],
      "metadata": {
        "id": "B9tsuqqmtGIY"
      }
    },
    {
      "cell_type": "code",
      "source": [
        "x = dado_escalado[:,0]\n",
        "y = dado_escalado[:,1]"
      ],
      "metadata": {
        "id": "1dfGZnyrtWfh"
      },
      "execution_count": null,
      "outputs": []
    },
    {
      "cell_type": "code",
      "source": [
        "plt.ylabel('Passageiros')\n",
        "plt.xlabel('Data')\n",
        "sns.lineplot(x = x, y=y, data='dado_escalado')"
      ],
      "metadata": {
        "colab": {
          "base_uri": "https://localhost:8080/",
          "height": 428
        },
        "id": "0U_RnIZItpDl",
        "outputId": "4e2044ea-ca62-4665-9485-2c81929b1587"
      },
      "execution_count": null,
      "outputs": [
        {
          "output_type": "execute_result",
          "data": {
            "text/plain": [
              "<matplotlib.axes._subplots.AxesSubplot at 0x7f6a38dbe750>"
            ]
          },
          "metadata": {},
          "execution_count": 9
        },
        {
          "output_type": "display_data",
          "data": {
            "text/plain": [
              "<Figure size 720x432 with 1 Axes>"
            ],
            "image/png": "[encoded data removed]"
          },
          "metadata": {
            "needs_background": "light"
          }
        }
      ]
    },
    {
      "cell_type": "markdown",
      "source": [
        "Agora os dados estão em escala"
      ],
      "metadata": {
        "id": "OqKvtK9DuHG3"
      }
    },
    {
      "cell_type": "markdown",
      "source": [
        "Separando dados de treino e de teste"
      ],
      "metadata": {
        "id": "EYTSGthJu0RJ"
      }
    },
    {
      "cell_type": "code",
      "source": [
        "tamanho_treino = int(len(passageiros)*0.9)\n",
        "tamanho_teste = int(len(passageiros) - tamanho_treino)"
      ],
      "metadata": {
        "id": "9ewumuj2uEqE"
      },
      "execution_count": null,
      "outputs": []
    },
    {
      "cell_type": "code",
      "source": [
        "xtreino = x[0:tamanho_treino]\n",
        "ytreino = y[0:tamanho_treino]"
      ],
      "metadata": {
        "id": "GCvw0U7KvLnL"
      },
      "execution_count": null,
      "outputs": []
    },
    {
      "cell_type": "code",
      "source": [
        "xteste = x[tamanho_treino:]\n",
        "yteste = y[tamanho_treino:]"
      ],
      "metadata": {
        "id": "Vzm8thxKvWma"
      },
      "execution_count": null,
      "outputs": []
    },
    {
      "cell_type": "code",
      "source": [
        "sns.lineplot(x = xtreino, y = ytreino, label='treino')\n",
        "sns.lineplot(x = xteste, y = yteste, label='treino')\n",
        "plt.ylabel('Passageiros')\n",
        "plt.xlabel('Data')"
      ],
      "metadata": {
        "colab": {
          "base_uri": "https://localhost:8080/",
          "height": 428
        },
        "id": "jpTLC9o9vpmA",
        "outputId": "fc8dd5a7-9c65-4031-b811-1d9a5c465320"
      },
      "execution_count": null,
      "outputs": [
        {
          "output_type": "execute_result",
          "data": {
            "text/plain": [
              "Text(0.5, 0, 'Data')"
            ]
          },
          "metadata": {},
          "execution_count": 13
        },
        {
          "output_type": "display_data",
          "data": {
            "text/plain": [
              "<Figure size 720x432 with 1 Axes>"
            ],
            "image/png": "[encoded data removed]"
          },
          "metadata": {
            "needs_background": "light"
          }
        }
      ]
    },
    {
      "cell_type": "markdown",
      "source": [
        "## Regressão\n",
        "Como vimos o gráfico possui uma tendência de reta, dessa forma vamos fazer uma regressão linear"
      ],
      "metadata": {
        "id": "ct416bCbxUU3"
      }
    },
    {
      "cell_type": "markdown",
      "source": [
        "Ela será bastante simples, vamos passar a data e a rede neural retornará o número de passageiros\n"
      ],
      "metadata": {
        "id": "tMMsu7GZxv0L"
      }
    },
    {
      "cell_type": "code",
      "source": [
        "from tensorflow.keras.models import Sequential\n",
        "from tensorflow.keras.layers import Dense"
      ],
      "metadata": {
        "id": "7zTFJoPpv0OP"
      },
      "execution_count": null,
      "outputs": []
    },
    {
      "cell_type": "code",
      "source": [
        "regressor = Sequential()"
      ],
      "metadata": {
        "id": "lRuMjX2fyCUe"
      },
      "execution_count": null,
      "outputs": []
    },
    {
      "cell_type": "markdown",
      "source": [
        "Adicionando uma camada densa, ou seja, cada neurônio se ligando com os demais "
      ],
      "metadata": {
        "id": "bcjXUNs7ymHu"
      }
    },
    {
      "cell_type": "code",
      "source": [
        "regressor.add(Dense(1,input_dim = 1, kernel_initializer='Ones',use_bias= False, activation='linear'))"
      ],
      "metadata": {
        "id": "lJgnWoT0yS3l"
      },
      "execution_count": null,
      "outputs": []
    },
    {
      "cell_type": "markdown",
      "source": [
        "kernel_initializer='Ones\" está inicializando os pesos com o valor 1.\n",
        "\n",
        "use_bias = False, não usando vises, ou seja, sem usar um coeficiente linear\n",
        "\n",
        "\n",
        "Vamos usar uma função linear de ativação que irá multiplicar por 1 : activation='linear'"
      ],
      "metadata": {
        "id": "mhsw6BYSzRjU"
      }
    },
    {
      "cell_type": "code",
      "source": [
        "regressor.compile(loss='mean_squared_error', optimizer = 'adam') # medindo a diferença entre os valores teóricos e os obtidos"
      ],
      "metadata": {
        "id": "jq6NfLE6zWDJ"
      },
      "execution_count": null,
      "outputs": []
    },
    {
      "cell_type": "code",
      "source": [
        "regressor.summary()"
      ],
      "metadata": {
        "colab": {
          "base_uri": "https://localhost:8080/"
        },
        "id": "opwWA0LR1SlV",
        "outputId": "a0602c25-cc31-458e-de25-2073d50d5a16"
      },
      "execution_count": null,
      "outputs": [
        {
          "output_type": "stream",
          "name": "stdout",
          "text": [
            "Model: \"sequential\"\n",
            "_________________________________________________________________\n",
            " Layer (type)                Output Shape              Param #   \n",
            "=================================================================\n",
            " dense (Dense)               (None, 1)                 1         \n",
            "                                                                 \n",
            "=================================================================\n",
            "Total params: 1\n",
            "Trainable params: 1\n",
            "Non-trainable params: 0\n",
            "_________________________________________________________________\n"
          ]
        }
      ]
    },
    {
      "cell_type": "markdown",
      "source": [
        "Possuimos dois parâmetros que são os pesos e bais, podemos tentar otimiza-los para conseguir um melhor resultado"
      ],
      "metadata": {
        "id": "ZhXEsWD81nfc"
      }
    },
    {
      "cell_type": "code",
      "source": [
        "regressor.fit(xtreino, ytreino)"
      ],
      "metadata": {
        "colab": {
          "base_uri": "https://localhost:8080/"
        },
        "id": "U2avcLfS1gzV",
        "outputId": "9d192447-cd48-4f68-ba96-13d46f122667"
      },
      "execution_count": null,
      "outputs": [
        {
          "output_type": "stream",
          "name": "stdout",
          "text": [
            "5/5 [==============================] - 1s 3ms/step - loss: 0.1284\n"
          ]
        },
        {
          "output_type": "execute_result",
          "data": {
            "text/plain": [
              "<keras.callbacks.History at 0x7f69d5855210>"
            ]
          },
          "metadata": {},
          "execution_count": 19
        }
      ]
    },
    {
      "cell_type": "code",
      "source": [
        "y_predict = regressor.predict(xtreino)"
      ],
      "metadata": {
        "id": "XMMKImGp1_W3"
      },
      "execution_count": null,
      "outputs": []
    },
    {
      "cell_type": "code",
      "source": [
        "sns.lineplot(x = xtreino, y = ytreino,label='treino')\n",
        "sns.lineplot(x = xtreino, y = y_predict[:,0], label='ajuste_treino')"
      ],
      "metadata": {
        "colab": {
          "base_uri": "https://localhost:8080/"
        },
        "id": "mUhz2v4u2U2T",
        "outputId": "8a42a407-6657-43eb-b76e-1fdc6956cd72"
      },
      "execution_count": null,
      "outputs": [
        {
          "output_type": "execute_result",
          "data": {
            "text/plain": [
              "<matplotlib.axes._subplots.AxesSubplot at 0x7f69d57e59d0>"
            ]
          },
          "metadata": {},
          "execution_count": 21
        },
        {
          "output_type": "display_data",
          "data": {
            "text/plain": [
              "<Figure size 720x432 with 1 Axes>"
            ],
            "image/png": "[encoded data removed]"
          },
          "metadata": {
            "needs_background": "light"
          }
        }
      ]
    },
    {
      "cell_type": "markdown",
      "source": [
        "A reta parece estar se ajustando legal aos dados"
      ],
      "metadata": {
        "id": "yXI2m5Eu2ztl"
      }
    },
    {
      "cell_type": "markdown",
      "source": [
        "Mudando a escala"
      ],
      "metadata": {
        "id": "U0vdoChR4bIE"
      }
    },
    {
      "cell_type": "code",
      "source": [
        "d = {'tempo': xtreino, 'passageiros':y_predict[:,0]}"
      ],
      "metadata": {
        "id": "bCQSTz2z2nV3"
      },
      "execution_count": null,
      "outputs": []
    },
    {
      "cell_type": "code",
      "source": [
        "resultados = pd.DataFrame(data = d)\n",
        "resultados.head()"
      ],
      "metadata": {
        "colab": {
          "base_uri": "https://localhost:8080/"
        },
        "id": "uolerWh94qNc",
        "outputId": "e9fe639a-5819-411a-9887-b0f1684c13c4"
      },
      "execution_count": null,
      "outputs": [
        {
          "output_type": "execute_result",
          "data": {
            "text/plain": [
              "      tempo  passageiros\n",
              "0 -1.720064    -1.711919\n",
              "1 -1.696007    -1.687976\n",
              "2 -1.671950    -1.664033\n",
              "3 -1.647894    -1.640090\n",
              "4 -1.623837    -1.616147"
            ],
            "text/html": [
              "\n",
              "  <div id=\"df-06394464-776f-4bc5-9596-4be6037fd33d\">\n",
              "    <div class=\"colab-df-container\">\n",
              "      <div>\n",
              "<style scoped>\n",
              "    .dataframe tbody tr th:only-of-type {\n",
              "        vertical-align: middle;\n",
              "    }\n",
              "\n",
              "    .dataframe tbody tr th {\n",
              "        vertical-align: top;\n",
              "    }\n",
              "\n",
              "    .dataframe thead th {\n",
              "        text-align: right;\n",
              "    }\n",
              "</style>\n",
              "<table border=\"1\" class=\"dataframe\">\n",
              "  <thead>\n",
              "    <tr style=\"text-align: right;\">\n",
              "      <th></th>\n",
              "      <th>tempo</th>\n",
              "      <th>passageiros</th>\n",
              "    </tr>\n",
              "  </thead>\n",
              "  <tbody>\n",
              "    <tr>\n",
              "      <th>0</th>\n",
              "      <td>-1.720064</td>\n",
              "      <td>-1.711919</td>\n",
              "    </tr>\n",
              "    <tr>\n",
              "      <th>1</th>\n",
              "      <td>-1.696007</td>\n",
              "      <td>-1.687976</td>\n",
              "    </tr>\n",
              "    <tr>\n",
              "      <th>2</th>\n",
              "      <td>-1.671950</td>\n",
              "      <td>-1.664033</td>\n",
              "    </tr>\n",
              "    <tr>\n",
              "      <th>3</th>\n",
              "      <td>-1.647894</td>\n",
              "      <td>-1.640090</td>\n",
              "    </tr>\n",
              "    <tr>\n",
              "      <th>4</th>\n",
              "      <td>-1.623837</td>\n",
              "      <td>-1.616147</td>\n",
              "    </tr>\n",
              "  </tbody>\n",
              "</table>\n",
              "</div>\n",
              "      <button class=\"colab-df-convert\" onclick=\"convertToInteractive('df-06394464-776f-4bc5-9596-4be6037fd33d')\"\n",
              "              title=\"Convert this dataframe to an interactive table.\"\n",
              "              style=\"display:none;\">\n",
              "        \n",
              "  <svg xmlns=\"http://www.w3.org/2000/svg\" height=\"24px\"viewBox=\"0 0 24 24\"\n",
              "       width=\"24px\">\n",
              "    <path d=\"M0 0h24v24H0V0z\" fill=\"none\"/>\n",
              "    <path d=\"M18.56 5.44l.94 2.06.94-2.06 2.06-.94-2.06-.94-.94-2.06-.94 2.06-2.06.94zm-11 1L8.5 8.5l.94-2.06 2.06-.94-2.06-.94L8.5 2.5l-.94 2.06-2.06.94zm10 10l.94 2.06.94-2.06 2.06-.94-2.06-.94-.94-2.06-.94 2.06-2.06.94z\"/><path d=\"M17.41 7.96l-1.37-1.37c-.4-.4-.92-.59-1.43-.59-.52 0-1.04.2-1.43.59L10.3 9.45l-7.72 7.72c-.78.78-.78 2.05 0 2.83L4 21.41c.39.39.9.59 1.41.59.51 0 1.02-.2 1.41-.59l7.78-7.78 2.81-2.81c.8-.78.8-2.07 0-2.86zM5.41 20L4 18.59l7.72-7.72 1.47 1.35L5.41 20z\"/>\n",
              "  </svg>\n",
              "      </button>\n",
              "      \n",
              "  <style>\n",
              "    .colab-df-container {\n",
              "      display:flex;\n",
              "      flex-wrap:wrap;\n",
              "      gap: 12px;\n",
              "    }\n",
              "\n",
              "    .colab-df-convert {\n",
              "      background-color: #E8F0FE;\n",
              "      border: none;\n",
              "      border-radius: 50%;\n",
              "      cursor: pointer;\n",
              "      display: none;\n",
              "      fill: #1967D2;\n",
              "      height: 32px;\n",
              "      padding: 0 0 0 0;\n",
              "      width: 32px;\n",
              "    }\n",
              "\n",
              "    .colab-df-convert:hover {\n",
              "      background-color: #E2EBFA;\n",
              "      box-shadow: 0px 1px 2px rgba(60, 64, 67, 0.3), 0px 1px 3px 1px rgba(60, 64, 67, 0.15);\n",
              "      fill: #174EA6;\n",
              "    }\n",
              "\n",
              "    [theme=dark] .colab-df-convert {\n",
              "      background-color: #3B4455;\n",
              "      fill: #D2E3FC;\n",
              "    }\n",
              "\n",
              "    [theme=dark] .colab-df-convert:hover {\n",
              "      background-color: #434B5C;\n",
              "      box-shadow: 0px 1px 3px 1px rgba(0, 0, 0, 0.15);\n",
              "      filter: drop-shadow(0px 1px 2px rgba(0, 0, 0, 0.3));\n",
              "      fill: #FFFFFF;\n",
              "    }\n",
              "  </style>\n",
              "\n",
              "      <script>\n",
              "        const buttonEl =\n",
              "          document.querySelector('#df-06394464-776f-4bc5-9596-4be6037fd33d button.colab-df-convert');\n",
              "        buttonEl.style.display =\n",
              "          google.colab.kernel.accessAllowed ? 'block' : 'none';\n",
              "\n",
              "        async function convertToInteractive(key) {\n",
              "          const element = document.querySelector('#df-06394464-776f-4bc5-9596-4be6037fd33d');\n",
              "          const dataTable =\n",
              "            await google.colab.kernel.invokeFunction('convertToInteractive',\n",
              "                                                     [key], {});\n",
              "          if (!dataTable) return;\n",
              "\n",
              "          const docLinkHtml = 'Like what you see? Visit the ' +\n",
              "            '<a target=\"_blank\" href=https://colab.research.google.com/notebooks/data_table.ipynb>data table notebook</a>'\n",
              "            + ' to learn more about interactive tables.';\n",
              "          element.innerHTML = '';\n",
              "          dataTable['output_type'] = 'display_data';\n",
              "          await google.colab.output.renderOutput(dataTable, element);\n",
              "          const docLink = document.createElement('div');\n",
              "          docLink.innerHTML = docLinkHtml;\n",
              "          element.appendChild(docLink);\n",
              "        }\n",
              "      </script>\n",
              "    </div>\n",
              "  </div>\n",
              "  "
            ]
          },
          "metadata": {},
          "execution_count": 23
        }
      ]
    },
    {
      "cell_type": "code",
      "source": [
        "resultado_transf = pd.DataFrame(data = sc.inverse_transform(resultados), columns = ['tempo', 'passageiros'])\n",
        "resultado_transf.head()"
      ],
      "metadata": {
        "colab": {
          "base_uri": "https://localhost:8080/"
        },
        "id": "l1HgwQB64u7N",
        "outputId": "db7232f7-5fe2-4c00-cce2-0dc725585736"
      },
      "execution_count": null,
      "outputs": [
        {
          "output_type": "execute_result",
          "data": {
            "text/plain": [
              "         tempo  passageiros\n",
              "0  1949.000000    75.640313\n",
              "1  1949.083333    78.502669\n",
              "2  1949.166667    81.365026\n",
              "3  1949.250000    84.227368\n",
              "4  1949.333333    87.089739"
            ],
            "text/html": [
              "\n",
              "  <div id=\"df-b669b583-f0d7-4aa6-9d82-53157bf2c36f\">\n",
              "    <div class=\"colab-df-container\">\n",
              "      <div>\n",
              "<style scoped>\n",
              "    .dataframe tbody tr th:only-of-type {\n",
              "        vertical-align: middle;\n",
              "    }\n",
              "\n",
              "    .dataframe tbody tr th {\n",
              "        vertical-align: top;\n",
              "    }\n",
              "\n",
              "    .dataframe thead th {\n",
              "        text-align: right;\n",
              "    }\n",
              "</style>\n",
              "<table border=\"1\" class=\"dataframe\">\n",
              "  <thead>\n",
              "    <tr style=\"text-align: right;\">\n",
              "      <th></th>\n",
              "      <th>tempo</th>\n",
              "      <th>passageiros</th>\n",
              "    </tr>\n",
              "  </thead>\n",
              "  <tbody>\n",
              "    <tr>\n",
              "      <th>0</th>\n",
              "      <td>1949.000000</td>\n",
              "      <td>75.640313</td>\n",
              "    </tr>\n",
              "    <tr>\n",
              "      <th>1</th>\n",
              "      <td>1949.083333</td>\n",
              "      <td>78.502669</td>\n",
              "    </tr>\n",
              "    <tr>\n",
              "      <th>2</th>\n",
              "      <td>1949.166667</td>\n",
              "      <td>81.365026</td>\n",
              "    </tr>\n",
              "    <tr>\n",
              "      <th>3</th>\n",
              "      <td>1949.250000</td>\n",
              "      <td>84.227368</td>\n",
              "    </tr>\n",
              "    <tr>\n",
              "      <th>4</th>\n",
              "      <td>1949.333333</td>\n",
              "      <td>87.089739</td>\n",
              "    </tr>\n",
              "  </tbody>\n",
              "</table>\n",
              "</div>\n",
              "      <button class=\"colab-df-convert\" onclick=\"convertToInteractive('df-b669b583-f0d7-4aa6-9d82-53157bf2c36f')\"\n",
              "              title=\"Convert this dataframe to an interactive table.\"\n",
              "              style=\"display:none;\">\n",
              "        \n",
              "  <svg xmlns=\"http://www.w3.org/2000/svg\" height=\"24px\"viewBox=\"0 0 24 24\"\n",
              "       width=\"24px\">\n",
              "    <path d=\"M0 0h24v24H0V0z\" fill=\"none\"/>\n",
              "    <path d=\"M18.56 5.44l.94 2.06.94-2.06 2.06-.94-2.06-.94-.94-2.06-.94 2.06-2.06.94zm-11 1L8.5 8.5l.94-2.06 2.06-.94-2.06-.94L8.5 2.5l-.94 2.06-2.06.94zm10 10l.94 2.06.94-2.06 2.06-.94-2.06-.94-.94-2.06-.94 2.06-2.06.94z\"/><path d=\"M17.41 7.96l-1.37-1.37c-.4-.4-.92-.59-1.43-.59-.52 0-1.04.2-1.43.59L10.3 9.45l-7.72 7.72c-.78.78-.78 2.05 0 2.83L4 21.41c.39.39.9.59 1.41.59.51 0 1.02-.2 1.41-.59l7.78-7.78 2.81-2.81c.8-.78.8-2.07 0-2.86zM5.41 20L4 18.59l7.72-7.72 1.47 1.35L5.41 20z\"/>\n",
              "  </svg>\n",
              "      </button>\n",
              "      \n",
              "  <style>\n",
              "    .colab-df-container {\n",
              "      display:flex;\n",
              "      flex-wrap:wrap;\n",
              "      gap: 12px;\n",
              "    }\n",
              "\n",
              "    .colab-df-convert {\n",
              "      background-color: #E8F0FE;\n",
              "      border: none;\n",
              "      border-radius: 50%;\n",
              "      cursor: pointer;\n",
              "      display: none;\n",
              "      fill: #1967D2;\n",
              "      height: 32px;\n",
              "      padding: 0 0 0 0;\n",
              "      width: 32px;\n",
              "    }\n",
              "\n",
              "    .colab-df-convert:hover {\n",
              "      background-color: #E2EBFA;\n",
              "      box-shadow: 0px 1px 2px rgba(60, 64, 67, 0.3), 0px 1px 3px 1px rgba(60, 64, 67, 0.15);\n",
              "      fill: #174EA6;\n",
              "    }\n",
              "\n",
              "    [theme=dark] .colab-df-convert {\n",
              "      background-color: #3B4455;\n",
              "      fill: #D2E3FC;\n",
              "    }\n",
              "\n",
              "    [theme=dark] .colab-df-convert:hover {\n",
              "      background-color: #434B5C;\n",
              "      box-shadow: 0px 1px 3px 1px rgba(0, 0, 0, 0.15);\n",
              "      filter: drop-shadow(0px 1px 2px rgba(0, 0, 0, 0.3));\n",
              "      fill: #FFFFFF;\n",
              "    }\n",
              "  </style>\n",
              "\n",
              "      <script>\n",
              "        const buttonEl =\n",
              "          document.querySelector('#df-b669b583-f0d7-4aa6-9d82-53157bf2c36f button.colab-df-convert');\n",
              "        buttonEl.style.display =\n",
              "          google.colab.kernel.accessAllowed ? 'block' : 'none';\n",
              "\n",
              "        async function convertToInteractive(key) {\n",
              "          const element = document.querySelector('#df-b669b583-f0d7-4aa6-9d82-53157bf2c36f');\n",
              "          const dataTable =\n",
              "            await google.colab.kernel.invokeFunction('convertToInteractive',\n",
              "                                                     [key], {});\n",
              "          if (!dataTable) return;\n",
              "\n",
              "          const docLinkHtml = 'Like what you see? Visit the ' +\n",
              "            '<a target=\"_blank\" href=https://colab.research.google.com/notebooks/data_table.ipynb>data table notebook</a>'\n",
              "            + ' to learn more about interactive tables.';\n",
              "          element.innerHTML = '';\n",
              "          dataTable['output_type'] = 'display_data';\n",
              "          await google.colab.output.renderOutput(dataTable, element);\n",
              "          const docLink = document.createElement('div');\n",
              "          docLink.innerHTML = docLinkHtml;\n",
              "          element.appendChild(docLink);\n",
              "        }\n",
              "      </script>\n",
              "    </div>\n",
              "  </div>\n",
              "  "
            ]
          },
          "metadata": {},
          "execution_count": 24
        }
      ]
    },
    {
      "cell_type": "code",
      "source": [
        "sns.lineplot(x = 'tempo', y = 'passageiros', data=passageiros, label='dado_completo')\n",
        "sns.lineplot(x = 'tempo',y='passageiros', data =resultado_transf, label='ajuste_treino' )"
      ],
      "metadata": {
        "colab": {
          "base_uri": "https://localhost:8080/"
        },
        "id": "wGoI9E7u5Bc0",
        "outputId": "aa805530-dd05-4412-de29-8067621f69d8"
      },
      "execution_count": null,
      "outputs": [
        {
          "output_type": "execute_result",
          "data": {
            "text/plain": [
              "<matplotlib.axes._subplots.AxesSubplot at 0x7f69d3fed810>"
            ]
          },
          "metadata": {},
          "execution_count": 25
        },
        {
          "output_type": "display_data",
          "data": {
            "text/plain": [
              "<Figure size 720x432 with 1 Axes>"
            ],
            "image/png": "[encoded data removed]"
          },
          "metadata": {
            "needs_background": "light"
          }
        }
      ]
    },
    {
      "cell_type": "code",
      "source": [
        "y_predict_teste = regressor.predict(xteste)"
      ],
      "metadata": {
        "id": "wsl8rfB25q5V"
      },
      "execution_count": null,
      "outputs": []
    },
    {
      "cell_type": "code",
      "source": [
        "d = {'tempo':xteste, 'passageiros':y_predict_teste[:,0]}\n",
        "resultados_teste = pd.DataFrame(data = d)"
      ],
      "metadata": {
        "id": "gG3LnTYD6KgZ"
      },
      "execution_count": null,
      "outputs": []
    },
    {
      "cell_type": "code",
      "source": [
        "resultado_transf_teste = pd.DataFrame(sc.inverse_transform(resultados_teste), columns = ['tempo', 'passageiros'])\n",
        "resultado_transf_teste.head()"
      ],
      "metadata": {
        "colab": {
          "base_uri": "https://localhost:8080/"
        },
        "id": "gB4YLQqA6d2c",
        "outputId": "ff8564b3-7204-4838-e826-b44f92b4e5cd"
      },
      "execution_count": null,
      "outputs": [
        {
          "output_type": "execute_result",
          "data": {
            "text/plain": [
              "         tempo  passageiros\n",
              "0  1959.750000   444.883948\n",
              "1  1959.833333   447.746319\n",
              "2  1959.916667   450.608661\n",
              "3  1960.000000   453.471003\n",
              "4  1960.083333   456.333374"
            ],
            "text/html": [
              "\n",
              "  <div id=\"df-1b0e2fbe-7232-4beb-8601-d4ae8132f231\">\n",
              "    <div class=\"colab-df-container\">\n",
              "      <div>\n",
              "<style scoped>\n",
              "    .dataframe tbody tr th:only-of-type {\n",
              "        vertical-align: middle;\n",
              "    }\n",
              "\n",
              "    .dataframe tbody tr th {\n",
              "        vertical-align: top;\n",
              "    }\n",
              "\n",
              "    .dataframe thead th {\n",
              "        text-align: right;\n",
              "    }\n",
              "</style>\n",
              "<table border=\"1\" class=\"dataframe\">\n",
              "  <thead>\n",
              "    <tr style=\"text-align: right;\">\n",
              "      <th></th>\n",
              "      <th>tempo</th>\n",
              "      <th>passageiros</th>\n",
              "    </tr>\n",
              "  </thead>\n",
              "  <tbody>\n",
              "    <tr>\n",
              "      <th>0</th>\n",
              "      <td>1959.750000</td>\n",
              "      <td>444.883948</td>\n",
              "    </tr>\n",
              "    <tr>\n",
              "      <th>1</th>\n",
              "      <td>1959.833333</td>\n",
              "      <td>447.746319</td>\n",
              "    </tr>\n",
              "    <tr>\n",
              "      <th>2</th>\n",
              "      <td>1959.916667</td>\n",
              "      <td>450.608661</td>\n",
              "    </tr>\n",
              "    <tr>\n",
              "      <th>3</th>\n",
              "      <td>1960.000000</td>\n",
              "      <td>453.471003</td>\n",
              "    </tr>\n",
              "    <tr>\n",
              "      <th>4</th>\n",
              "      <td>1960.083333</td>\n",
              "      <td>456.333374</td>\n",
              "    </tr>\n",
              "  </tbody>\n",
              "</table>\n",
              "</div>\n",
              "      <button class=\"colab-df-convert\" onclick=\"convertToInteractive('df-1b0e2fbe-7232-4beb-8601-d4ae8132f231')\"\n",
              "              title=\"Convert this dataframe to an interactive table.\"\n",
              "              style=\"display:none;\">\n",
              "        \n",
              "  <svg xmlns=\"http://www.w3.org/2000/svg\" height=\"24px\"viewBox=\"0 0 24 24\"\n",
              "       width=\"24px\">\n",
              "    <path d=\"M0 0h24v24H0V0z\" fill=\"none\"/>\n",
              "    <path d=\"M18.56 5.44l.94 2.06.94-2.06 2.06-.94-2.06-.94-.94-2.06-.94 2.06-2.06.94zm-11 1L8.5 8.5l.94-2.06 2.06-.94-2.06-.94L8.5 2.5l-.94 2.06-2.06.94zm10 10l.94 2.06.94-2.06 2.06-.94-2.06-.94-.94-2.06-.94 2.06-2.06.94z\"/><path d=\"M17.41 7.96l-1.37-1.37c-.4-.4-.92-.59-1.43-.59-.52 0-1.04.2-1.43.59L10.3 9.45l-7.72 7.72c-.78.78-.78 2.05 0 2.83L4 21.41c.39.39.9.59 1.41.59.51 0 1.02-.2 1.41-.59l7.78-7.78 2.81-2.81c.8-.78.8-2.07 0-2.86zM5.41 20L4 18.59l7.72-7.72 1.47 1.35L5.41 20z\"/>\n",
              "  </svg>\n",
              "      </button>\n",
              "      \n",
              "  <style>\n",
              "    .colab-df-container {\n",
              "      display:flex;\n",
              "      flex-wrap:wrap;\n",
              "      gap: 12px;\n",
              "    }\n",
              "\n",
              "    .colab-df-convert {\n",
              "      background-color: #E8F0FE;\n",
              "      border: none;\n",
              "      border-radius: 50%;\n",
              "      cursor: pointer;\n",
              "      display: none;\n",
              "      fill: #1967D2;\n",
              "      height: 32px;\n",
              "      padding: 0 0 0 0;\n",
              "      width: 32px;\n",
              "    }\n",
              "\n",
              "    .colab-df-convert:hover {\n",
              "      background-color: #E2EBFA;\n",
              "      box-shadow: 0px 1px 2px rgba(60, 64, 67, 0.3), 0px 1px 3px 1px rgba(60, 64, 67, 0.15);\n",
              "      fill: #174EA6;\n",
              "    }\n",
              "\n",
              "    [theme=dark] .colab-df-convert {\n",
              "      background-color: #3B4455;\n",
              "      fill: #D2E3FC;\n",
              "    }\n",
              "\n",
              "    [theme=dark] .colab-df-convert:hover {\n",
              "      background-color: #434B5C;\n",
              "      box-shadow: 0px 1px 3px 1px rgba(0, 0, 0, 0.15);\n",
              "      filter: drop-shadow(0px 1px 2px rgba(0, 0, 0, 0.3));\n",
              "      fill: #FFFFFF;\n",
              "    }\n",
              "  </style>\n",
              "\n",
              "      <script>\n",
              "        const buttonEl =\n",
              "          document.querySelector('#df-1b0e2fbe-7232-4beb-8601-d4ae8132f231 button.colab-df-convert');\n",
              "        buttonEl.style.display =\n",
              "          google.colab.kernel.accessAllowed ? 'block' : 'none';\n",
              "\n",
              "        async function convertToInteractive(key) {\n",
              "          const element = document.querySelector('#df-1b0e2fbe-7232-4beb-8601-d4ae8132f231');\n",
              "          const dataTable =\n",
              "            await google.colab.kernel.invokeFunction('convertToInteractive',\n",
              "                                                     [key], {});\n",
              "          if (!dataTable) return;\n",
              "\n",
              "          const docLinkHtml = 'Like what you see? Visit the ' +\n",
              "            '<a target=\"_blank\" href=https://colab.research.google.com/notebooks/data_table.ipynb>data table notebook</a>'\n",
              "            + ' to learn more about interactive tables.';\n",
              "          element.innerHTML = '';\n",
              "          dataTable['output_type'] = 'display_data';\n",
              "          await google.colab.output.renderOutput(dataTable, element);\n",
              "          const docLink = document.createElement('div');\n",
              "          docLink.innerHTML = docLinkHtml;\n",
              "          element.appendChild(docLink);\n",
              "        }\n",
              "      </script>\n",
              "    </div>\n",
              "  </div>\n",
              "  "
            ]
          },
          "metadata": {},
          "execution_count": 28
        }
      ]
    },
    {
      "cell_type": "code",
      "source": [
        "sns.lineplot(x = 'tempo', y = 'passageiros', data=passageiros, label='dado_completo')\n",
        "sns.lineplot(x = 'tempo',y='passageiros', data =resultado_transf, label='ajuste_treino' )\n",
        "sns.lineplot(x = 'tempo',y='passageiros', data = resultado_transf_teste, label = 'previsão')"
      ],
      "metadata": {
        "colab": {
          "base_uri": "https://localhost:8080/"
        },
        "id": "hJeYXJqC6qT-",
        "outputId": "38004037-53b0-4cc3-965a-6e4c2742a020"
      },
      "execution_count": null,
      "outputs": [
        {
          "output_type": "execute_result",
          "data": {
            "text/plain": [
              "<matplotlib.axes._subplots.AxesSubplot at 0x7f69d56eead0>"
            ]
          },
          "metadata": {},
          "execution_count": 29
        },
        {
          "output_type": "display_data",
          "data": {
            "text/plain": [
              "<Figure size 720x432 with 1 Axes>"
            ],
            "image/png": "[encoded data removed]"
          },
          "metadata": {
            "needs_background": "light"
          }
        }
      ]
    },
    {
      "cell_type": "markdown",
      "source": [
        "Como podemos ver o nosso programa realmente aprendeu a prever uma reta para os dados"
      ],
      "metadata": {
        "id": "QLNWWKxl7E9V"
      }
    },
    {
      "cell_type": "markdown",
      "source": [
        "Adicionando mais camadas"
      ],
      "metadata": {
        "id": "xOnCWJtad4i1"
      }
    },
    {
      "cell_type": "code",
      "source": [
        "regressor2 = Sequential()"
      ],
      "metadata": {
        "id": "ob_ZMkDM6_IU"
      },
      "execution_count": null,
      "outputs": []
    },
    {
      "cell_type": "code",
      "source": [
        "regressor2.add(Dense(8,input_dim = 1,kernel_initializer='random_uniform', activation='linear', use_bias = False))\n",
        "\n",
        "regressor2.add(Dense(8,kernel_initializer='random_uniform', activation='linear', use_bias = False))\n",
        "\n",
        "regressor2.add(Dense(1,kernel_initializer='random_uniform', activation='linear', use_bias = False))"
      ],
      "metadata": {
        "id": "lMPNfRa1eJAm"
      },
      "execution_count": null,
      "outputs": []
    },
    {
      "cell_type": "code",
      "source": [
        "regressor2.compile(loss='mean_squared_error', optimizer='adam')"
      ],
      "metadata": {
        "id": "DImNmSrEfQrD"
      },
      "execution_count": null,
      "outputs": []
    },
    {
      "cell_type": "code",
      "source": [
        "regressor2.summary()"
      ],
      "metadata": {
        "colab": {
          "base_uri": "https://localhost:8080/"
        },
        "id": "XbnNgfmAfjPe",
        "outputId": "8ba1c49f-7460-4032-8f1d-2302f459fc26"
      },
      "execution_count": null,
      "outputs": [
        {
          "output_type": "stream",
          "name": "stdout",
          "text": [
            "Model: \"sequential_1\"\n",
            "_________________________________________________________________\n",
            " Layer (type)                Output Shape              Param #   \n",
            "=================================================================\n",
            " dense_1 (Dense)             (None, 8)                 8         \n",
            "                                                                 \n",
            " dense_2 (Dense)             (None, 8)                 64        \n",
            "                                                                 \n",
            " dense_3 (Dense)             (None, 1)                 8         \n",
            "                                                                 \n",
            "=================================================================\n",
            "Total params: 80\n",
            "Trainable params: 80\n",
            "Non-trainable params: 0\n",
            "_________________________________________________________________\n"
          ]
        }
      ]
    },
    {
      "cell_type": "code",
      "source": [
        "regressor2.fit(xtreino, ytreino, epochs=200)"
      ],
      "metadata": {
        "colab": {
          "base_uri": "https://localhost:8080/"
        },
        "id": "Kz4w2GX8fmGd",
        "outputId": "e28423b1-a04a-4ae0-ea31-dbad68da0848"
      },
      "execution_count": null,
      "outputs": [
        {
          "output_type": "stream",
          "name": "stdout",
          "text": [
            "Epoch 1/200\n",
            "5/5 [==============================] - 0s 3ms/step - loss: 0.8091\n",
            "Epoch 2/200\n",
            "5/5 [==============================] - 0s 3ms/step - loss: 0.8085\n",
            "Epoch 3/200\n",
            "5/5 [==============================] - 0s 3ms/step - loss: 0.8077\n",
            "Epoch 4/200\n",
            "5/5 [==============================] - 0s 3ms/step - loss: 0.8066\n",
            "Epoch 5/200\n",
            "5/5 [==============================] - 0s 3ms/step - loss: 0.8051\n",
            "Epoch 6/200\n",
            "5/5 [==============================] - 0s 12ms/step - loss: 0.8030\n",
            "Epoch 7/200\n",
            "5/5 [==============================] - 0s 4ms/step - loss: 0.8002\n",
            "Epoch 8/200\n",
            "5/5 [==============================] - 0s 4ms/step - loss: 0.7965\n",
            "Epoch 9/200\n",
            "5/5 [==============================] - 0s 4ms/step - loss: 0.7914\n",
            "Epoch 10/200\n",
            "5/5 [==============================] - 0s 4ms/step - loss: 0.7847\n",
            "Epoch 11/200\n",
            "5/5 [==============================] - 0s 4ms/step - loss: 0.7760\n",
            "Epoch 12/200\n",
            "5/5 [==============================] - 0s 4ms/step - loss: 0.7647\n",
            "Epoch 13/200\n",
            "5/5 [==============================] - 0s 4ms/step - loss: 0.7512\n",
            "Epoch 14/200\n",
            "5/5 [==============================] - 0s 4ms/step - loss: 0.7349\n",
            "Epoch 15/200\n",
            "5/5 [==============================] - 0s 5ms/step - loss: 0.7149\n",
            "Epoch 16/200\n",
            "5/5 [==============================] - 0s 9ms/step - loss: 0.6934\n",
            "Epoch 17/200\n",
            "5/5 [==============================] - 0s 6ms/step - loss: 0.6676\n",
            "Epoch 18/200\n",
            "5/5 [==============================] - 0s 4ms/step - loss: 0.6390\n",
            "Epoch 19/200\n",
            "5/5 [==============================] - 0s 4ms/step - loss: 0.6049\n",
            "Epoch 20/200\n",
            "5/5 [==============================] - 0s 4ms/step - loss: 0.5696\n",
            "Epoch 21/200\n",
            "5/5 [==============================] - 0s 4ms/step - loss: 0.5288\n",
            "Epoch 22/200\n",
            "5/5 [==============================] - 0s 3ms/step - loss: 0.4833\n",
            "Epoch 23/200\n",
            "5/5 [==============================] - 0s 4ms/step - loss: 0.4355\n",
            "Epoch 24/200\n",
            "5/5 [==============================] - 0s 4ms/step - loss: 0.3921\n",
            "Epoch 25/200\n",
            "5/5 [==============================] - 0s 5ms/step - loss: 0.3466\n",
            "Epoch 26/200\n",
            "5/5 [==============================] - 0s 5ms/step - loss: 0.3112\n",
            "Epoch 27/200\n",
            "5/5 [==============================] - 0s 4ms/step - loss: 0.2762\n",
            "Epoch 28/200\n",
            "5/5 [==============================] - 0s 4ms/step - loss: 0.2396\n",
            "Epoch 29/200\n",
            "5/5 [==============================] - 0s 5ms/step - loss: 0.2100\n",
            "Epoch 30/200\n",
            "5/5 [==============================] - 0s 7ms/step - loss: 0.1856\n",
            "Epoch 31/200\n",
            "5/5 [==============================] - 0s 5ms/step - loss: 0.1674\n",
            "Epoch 32/200\n",
            "5/5 [==============================] - 0s 4ms/step - loss: 0.1537\n",
            "Epoch 33/200\n",
            "5/5 [==============================] - 0s 4ms/step - loss: 0.1425\n",
            "Epoch 34/200\n",
            "5/5 [==============================] - 0s 4ms/step - loss: 0.1351\n",
            "Epoch 35/200\n",
            "5/5 [==============================] - 0s 6ms/step - loss: 0.1301\n",
            "Epoch 36/200\n",
            "5/5 [==============================] - 0s 4ms/step - loss: 0.1263\n",
            "Epoch 37/200\n",
            "5/5 [==============================] - 0s 4ms/step - loss: 0.1237\n",
            "Epoch 38/200\n",
            "5/5 [==============================] - 0s 4ms/step - loss: 0.1228\n",
            "Epoch 39/200\n",
            "5/5 [==============================] - 0s 4ms/step - loss: 0.1223\n",
            "Epoch 40/200\n",
            "5/5 [==============================] - 0s 9ms/step - loss: 0.1218\n",
            "Epoch 41/200\n",
            "5/5 [==============================] - 0s 5ms/step - loss: 0.1218\n",
            "Epoch 42/200\n",
            "5/5 [==============================] - 0s 7ms/step - loss: 0.1216\n",
            "Epoch 43/200\n",
            "5/5 [==============================] - 0s 5ms/step - loss: 0.1216\n",
            "Epoch 44/200\n",
            "5/5 [==============================] - 0s 11ms/step - loss: 0.1217\n",
            "Epoch 45/200\n",
            "5/5 [==============================] - 0s 7ms/step - loss: 0.1216\n",
            "Epoch 46/200\n",
            "5/5 [==============================] - 0s 6ms/step - loss: 0.1216\n",
            "Epoch 47/200\n",
            "5/5 [==============================] - 0s 4ms/step - loss: 0.1217\n",
            "Epoch 48/200\n",
            "5/5 [==============================] - 0s 4ms/step - loss: 0.1218\n",
            "Epoch 49/200\n",
            "5/5 [==============================] - 0s 4ms/step - loss: 0.1219\n",
            "Epoch 50/200\n",
            "5/5 [==============================] - 0s 4ms/step - loss: 0.1219\n",
            "Epoch 51/200\n",
            "5/5 [==============================] - 0s 4ms/step - loss: 0.1218\n",
            "Epoch 52/200\n",
            "5/5 [==============================] - 0s 6ms/step - loss: 0.1217\n",
            "Epoch 53/200\n",
            "5/5 [==============================] - 0s 6ms/step - loss: 0.1217\n",
            "Epoch 54/200\n",
            "5/5 [==============================] - 0s 5ms/step - loss: 0.1218\n",
            "Epoch 55/200\n",
            "5/5 [==============================] - 0s 4ms/step - loss: 0.1219\n",
            "Epoch 56/200\n",
            "5/5 [==============================] - 0s 5ms/step - loss: 0.1219\n",
            "Epoch 57/200\n",
            "5/5 [==============================] - 0s 4ms/step - loss: 0.1219\n",
            "Epoch 58/200\n",
            "5/5 [==============================] - 0s 4ms/step - loss: 0.1219\n",
            "Epoch 59/200\n",
            "5/5 [==============================] - 0s 5ms/step - loss: 0.1219\n",
            "Epoch 60/200\n",
            "5/5 [==============================] - 0s 6ms/step - loss: 0.1218\n",
            "Epoch 61/200\n",
            "5/5 [==============================] - 0s 5ms/step - loss: 0.1221\n",
            "Epoch 62/200\n",
            "5/5 [==============================] - 0s 3ms/step - loss: 0.1217\n",
            "Epoch 63/200\n",
            "5/5 [==============================] - 0s 4ms/step - loss: 0.1224\n",
            "Epoch 64/200\n",
            "5/5 [==============================] - 0s 4ms/step - loss: 0.1233\n",
            "Epoch 65/200\n",
            "5/5 [==============================] - 0s 4ms/step - loss: 0.1232\n",
            "Epoch 66/200\n",
            "5/5 [==============================] - 0s 5ms/step - loss: 0.1223\n",
            "Epoch 67/200\n",
            "5/5 [==============================] - 0s 9ms/step - loss: 0.1221\n",
            "Epoch 68/200\n",
            "5/5 [==============================] - 0s 5ms/step - loss: 0.1219\n",
            "Epoch 69/200\n",
            "5/5 [==============================] - 0s 5ms/step - loss: 0.1218\n",
            "Epoch 70/200\n",
            "5/5 [==============================] - 0s 3ms/step - loss: 0.1217\n",
            "Epoch 71/200\n",
            "5/5 [==============================] - 0s 5ms/step - loss: 0.1218\n",
            "Epoch 72/200\n",
            "5/5 [==============================] - 0s 4ms/step - loss: 0.1217\n",
            "Epoch 73/200\n",
            "5/5 [==============================] - 0s 11ms/step - loss: 0.1230\n",
            "Epoch 74/200\n",
            "5/5 [==============================] - 0s 4ms/step - loss: 0.1230\n",
            "Epoch 75/200\n",
            "5/5 [==============================] - 0s 7ms/step - loss: 0.1231\n",
            "Epoch 76/200\n",
            "5/5 [==============================] - 0s 4ms/step - loss: 0.1233\n",
            "Epoch 77/200\n",
            "5/5 [==============================] - 0s 4ms/step - loss: 0.1245\n",
            "Epoch 78/200\n",
            "5/5 [==============================] - 0s 4ms/step - loss: 0.1265\n",
            "Epoch 79/200\n",
            "5/5 [==============================] - 0s 5ms/step - loss: 0.1272\n",
            "Epoch 80/200\n",
            "5/5 [==============================] - 0s 5ms/step - loss: 0.1263\n",
            "Epoch 81/200\n",
            "5/5 [==============================] - 0s 4ms/step - loss: 0.1250\n",
            "Epoch 82/200\n",
            "5/5 [==============================] - 0s 6ms/step - loss: 0.1233\n",
            "Epoch 83/200\n",
            "5/5 [==============================] - 0s 4ms/step - loss: 0.1225\n",
            "Epoch 84/200\n",
            "5/5 [==============================] - 0s 4ms/step - loss: 0.1218\n",
            "Epoch 85/200\n",
            "5/5 [==============================] - 0s 7ms/step - loss: 0.1218\n",
            "Epoch 86/200\n",
            "5/5 [==============================] - 0s 5ms/step - loss: 0.1224\n",
            "Epoch 87/200\n",
            "5/5 [==============================] - 0s 6ms/step - loss: 0.1225\n",
            "Epoch 88/200\n",
            "5/5 [==============================] - 0s 5ms/step - loss: 0.1223\n",
            "Epoch 89/200\n",
            "5/5 [==============================] - 0s 7ms/step - loss: 0.1221\n",
            "Epoch 90/200\n",
            "5/5 [==============================] - 0s 3ms/step - loss: 0.1219\n",
            "Epoch 91/200\n",
            "5/5 [==============================] - 0s 5ms/step - loss: 0.1217\n",
            "Epoch 92/200\n",
            "5/5 [==============================] - 0s 6ms/step - loss: 0.1216\n",
            "Epoch 93/200\n",
            "5/5 [==============================] - 0s 4ms/step - loss: 0.1216\n",
            "Epoch 94/200\n",
            "5/5 [==============================] - 0s 4ms/step - loss: 0.1218\n",
            "Epoch 95/200\n",
            "5/5 [==============================] - 0s 10ms/step - loss: 0.1216\n",
            "Epoch 96/200\n",
            "5/5 [==============================] - 0s 6ms/step - loss: 0.1217\n",
            "Epoch 97/200\n",
            "5/5 [==============================] - 0s 4ms/step - loss: 0.1218\n",
            "Epoch 98/200\n",
            "5/5 [==============================] - 0s 11ms/step - loss: 0.1218\n",
            "Epoch 99/200\n",
            "5/5 [==============================] - 0s 8ms/step - loss: 0.1215\n",
            "Epoch 100/200\n",
            "5/5 [==============================] - 0s 4ms/step - loss: 0.1219\n",
            "Epoch 101/200\n",
            "5/5 [==============================] - 0s 5ms/step - loss: 0.1223\n",
            "Epoch 102/200\n",
            "5/5 [==============================] - 0s 10ms/step - loss: 0.1225\n",
            "Epoch 103/200\n",
            "5/5 [==============================] - 0s 6ms/step - loss: 0.1228\n",
            "Epoch 104/200\n",
            "5/5 [==============================] - 0s 5ms/step - loss: 0.1225\n",
            "Epoch 105/200\n",
            "5/5 [==============================] - 0s 6ms/step - loss: 0.1220\n",
            "Epoch 106/200\n",
            "5/5 [==============================] - 0s 4ms/step - loss: 0.1214\n",
            "Epoch 107/200\n",
            "5/5 [==============================] - 0s 6ms/step - loss: 0.1216\n",
            "Epoch 108/200\n",
            "5/5 [==============================] - 0s 4ms/step - loss: 0.1219\n",
            "Epoch 109/200\n",
            "5/5 [==============================] - 0s 5ms/step - loss: 0.1220\n",
            "Epoch 110/200\n",
            "5/5 [==============================] - 0s 4ms/step - loss: 0.1220\n",
            "Epoch 111/200\n",
            "5/5 [==============================] - 0s 5ms/step - loss: 0.1219\n",
            "Epoch 112/200\n",
            "5/5 [==============================] - 0s 4ms/step - loss: 0.1219\n",
            "Epoch 113/200\n",
            "5/5 [==============================] - 0s 4ms/step - loss: 0.1219\n",
            "Epoch 114/200\n",
            "5/5 [==============================] - 0s 4ms/step - loss: 0.1223\n",
            "Epoch 115/200\n",
            "5/5 [==============================] - 0s 4ms/step - loss: 0.1233\n",
            "Epoch 116/200\n",
            "5/5 [==============================] - 0s 4ms/step - loss: 0.1238\n",
            "Epoch 117/200\n",
            "5/5 [==============================] - 0s 4ms/step - loss: 0.1239\n",
            "Epoch 118/200\n",
            "5/5 [==============================] - 0s 5ms/step - loss: 0.1234\n",
            "Epoch 119/200\n",
            "5/5 [==============================] - 0s 4ms/step - loss: 0.1227\n",
            "Epoch 120/200\n",
            "5/5 [==============================] - 0s 12ms/step - loss: 0.1220\n",
            "Epoch 121/200\n",
            "5/5 [==============================] - 0s 4ms/step - loss: 0.1219\n",
            "Epoch 122/200\n",
            "5/5 [==============================] - 0s 4ms/step - loss: 0.1220\n",
            "Epoch 123/200\n",
            "5/5 [==============================] - 0s 5ms/step - loss: 0.1220\n",
            "Epoch 124/200\n",
            "5/5 [==============================] - 0s 4ms/step - loss: 0.1220\n",
            "Epoch 125/200\n",
            "5/5 [==============================] - 0s 4ms/step - loss: 0.1217\n",
            "Epoch 126/200\n",
            "5/5 [==============================] - 0s 3ms/step - loss: 0.1215\n",
            "Epoch 127/200\n",
            "5/5 [==============================] - 0s 4ms/step - loss: 0.1218\n",
            "Epoch 128/200\n",
            "5/5 [==============================] - 0s 4ms/step - loss: 0.1219\n",
            "Epoch 129/200\n",
            "5/5 [==============================] - 0s 10ms/step - loss: 0.1219\n",
            "Epoch 130/200\n",
            "5/5 [==============================] - 0s 4ms/step - loss: 0.1216\n",
            "Epoch 131/200\n",
            "5/5 [==============================] - 0s 3ms/step - loss: 0.1218\n",
            "Epoch 132/200\n",
            "5/5 [==============================] - 0s 4ms/step - loss: 0.1222\n",
            "Epoch 133/200\n",
            "5/5 [==============================] - 0s 5ms/step - loss: 0.1230\n",
            "Epoch 134/200\n",
            "5/5 [==============================] - 0s 6ms/step - loss: 0.1229\n",
            "Epoch 135/200\n",
            "5/5 [==============================] - 0s 5ms/step - loss: 0.1228\n",
            "Epoch 136/200\n",
            "5/5 [==============================] - 0s 9ms/step - loss: 0.1231\n",
            "Epoch 137/200\n",
            "5/5 [==============================] - 0s 7ms/step - loss: 0.1231\n",
            "Epoch 138/200\n",
            "5/5 [==============================] - 0s 4ms/step - loss: 0.1234\n",
            "Epoch 139/200\n",
            "5/5 [==============================] - 0s 4ms/step - loss: 0.1238\n",
            "Epoch 140/200\n",
            "5/5 [==============================] - 0s 5ms/step - loss: 0.1235\n",
            "Epoch 141/200\n",
            "5/5 [==============================] - 0s 5ms/step - loss: 0.1227\n",
            "Epoch 142/200\n",
            "5/5 [==============================] - 0s 5ms/step - loss: 0.1224\n",
            "Epoch 143/200\n",
            "5/5 [==============================] - 0s 7ms/step - loss: 0.1221\n",
            "Epoch 144/200\n",
            "5/5 [==============================] - 0s 9ms/step - loss: 0.1220\n",
            "Epoch 145/200\n",
            "5/5 [==============================] - 0s 6ms/step - loss: 0.1217\n",
            "Epoch 146/200\n",
            "5/5 [==============================] - 0s 4ms/step - loss: 0.1216\n",
            "Epoch 147/200\n",
            "5/5 [==============================] - 0s 3ms/step - loss: 0.1217\n",
            "Epoch 148/200\n",
            "5/5 [==============================] - 0s 6ms/step - loss: 0.1216\n",
            "Epoch 149/200\n",
            "5/5 [==============================] - 0s 4ms/step - loss: 0.1216\n",
            "Epoch 150/200\n",
            "5/5 [==============================] - 0s 5ms/step - loss: 0.1215\n",
            "Epoch 151/200\n",
            "5/5 [==============================] - 0s 4ms/step - loss: 0.1216\n",
            "Epoch 152/200\n",
            "5/5 [==============================] - 0s 8ms/step - loss: 0.1225\n",
            "Epoch 153/200\n",
            "5/5 [==============================] - 0s 6ms/step - loss: 0.1230\n",
            "Epoch 154/200\n",
            "5/5 [==============================] - 0s 4ms/step - loss: 0.1226\n",
            "Epoch 155/200\n",
            "5/5 [==============================] - 0s 17ms/step - loss: 0.1222\n",
            "Epoch 156/200\n",
            "5/5 [==============================] - 0s 8ms/step - loss: 0.1219\n",
            "Epoch 157/200\n",
            "5/5 [==============================] - 0s 9ms/step - loss: 0.1218\n",
            "Epoch 158/200\n",
            "5/5 [==============================] - 0s 7ms/step - loss: 0.1217\n",
            "Epoch 159/200\n",
            "5/5 [==============================] - 0s 5ms/step - loss: 0.1217\n",
            "Epoch 160/200\n",
            "5/5 [==============================] - 0s 8ms/step - loss: 0.1216\n",
            "Epoch 161/200\n",
            "5/5 [==============================] - 0s 8ms/step - loss: 0.1216\n",
            "Epoch 162/200\n",
            "5/5 [==============================] - 0s 9ms/step - loss: 0.1217\n",
            "Epoch 163/200\n",
            "5/5 [==============================] - 0s 4ms/step - loss: 0.1216\n",
            "Epoch 164/200\n",
            "5/5 [==============================] - 0s 5ms/step - loss: 0.1219\n",
            "Epoch 165/200\n",
            "5/5 [==============================] - 0s 4ms/step - loss: 0.1225\n",
            "Epoch 166/200\n",
            "5/5 [==============================] - 0s 5ms/step - loss: 0.1231\n",
            "Epoch 167/200\n",
            "5/5 [==============================] - 0s 4ms/step - loss: 0.1231\n",
            "Epoch 168/200\n",
            "5/5 [==============================] - 0s 6ms/step - loss: 0.1229\n",
            "Epoch 169/200\n",
            "5/5 [==============================] - 0s 4ms/step - loss: 0.1231\n",
            "Epoch 170/200\n",
            "5/5 [==============================] - 0s 5ms/step - loss: 0.1240\n",
            "Epoch 171/200\n",
            "5/5 [==============================] - 0s 6ms/step - loss: 0.1244\n",
            "Epoch 172/200\n",
            "5/5 [==============================] - 0s 7ms/step - loss: 0.1244\n",
            "Epoch 173/200\n",
            "5/5 [==============================] - 0s 6ms/step - loss: 0.1240\n",
            "Epoch 174/200\n",
            "5/5 [==============================] - 0s 4ms/step - loss: 0.1234\n",
            "Epoch 175/200\n",
            "5/5 [==============================] - 0s 7ms/step - loss: 0.1220\n",
            "Epoch 176/200\n",
            "5/5 [==============================] - 0s 4ms/step - loss: 0.1216\n",
            "Epoch 177/200\n",
            "5/5 [==============================] - 0s 5ms/step - loss: 0.1219\n",
            "Epoch 178/200\n",
            "5/5 [==============================] - 0s 3ms/step - loss: 0.1222\n",
            "Epoch 179/200\n",
            "5/5 [==============================] - 0s 6ms/step - loss: 0.1247\n",
            "Epoch 180/200\n",
            "5/5 [==============================] - 0s 5ms/step - loss: 0.1254\n",
            "Epoch 181/200\n",
            "5/5 [==============================] - 0s 5ms/step - loss: 0.1245\n",
            "Epoch 182/200\n",
            "5/5 [==============================] - 0s 5ms/step - loss: 0.1234\n",
            "Epoch 183/200\n",
            "5/5 [==============================] - 0s 6ms/step - loss: 0.1225\n",
            "Epoch 184/200\n",
            "5/5 [==============================] - 0s 4ms/step - loss: 0.1216\n",
            "Epoch 185/200\n",
            "5/5 [==============================] - 0s 4ms/step - loss: 0.1218\n",
            "Epoch 186/200\n",
            "5/5 [==============================] - 0s 5ms/step - loss: 0.1225\n",
            "Epoch 187/200\n",
            "5/5 [==============================] - 0s 4ms/step - loss: 0.1226\n",
            "Epoch 188/200\n",
            "5/5 [==============================] - 0s 5ms/step - loss: 0.1225\n",
            "Epoch 189/200\n",
            "5/5 [==============================] - 0s 6ms/step - loss: 0.1224\n",
            "Epoch 190/200\n",
            "5/5 [==============================] - 0s 6ms/step - loss: 0.1223\n",
            "Epoch 191/200\n",
            "5/5 [==============================] - 0s 10ms/step - loss: 0.1218\n",
            "Epoch 192/200\n",
            "5/5 [==============================] - 0s 5ms/step - loss: 0.1217\n",
            "Epoch 193/200\n",
            "5/5 [==============================] - 0s 7ms/step - loss: 0.1217\n",
            "Epoch 194/200\n",
            "5/5 [==============================] - 0s 4ms/step - loss: 0.1220\n",
            "Epoch 195/200\n",
            "5/5 [==============================] - 0s 3ms/step - loss: 0.1222\n",
            "Epoch 196/200\n",
            "5/5 [==============================] - 0s 4ms/step - loss: 0.1226\n",
            "Epoch 197/200\n",
            "5/5 [==============================] - 0s 4ms/step - loss: 0.1227\n",
            "Epoch 198/200\n",
            "5/5 [==============================] - 0s 5ms/step - loss: 0.1226\n",
            "Epoch 199/200\n",
            "5/5 [==============================] - 0s 4ms/step - loss: 0.1226\n",
            "Epoch 200/200\n",
            "5/5 [==============================] - 0s 4ms/step - loss: 0.1226\n"
          ]
        },
        {
          "output_type": "execute_result",
          "data": {
            "text/plain": [
              "<keras.callbacks.History at 0x7f69d5855850>"
            ]
          },
          "metadata": {},
          "execution_count": 34
        }
      ]
    },
    {
      "cell_type": "code",
      "source": [
        "y_predict = regressor2.predict(xtreino)\n",
        "\n",
        "y_predict_teste = regressor2.predict(xteste)"
      ],
      "metadata": {
        "id": "TOgall1zf5_6"
      },
      "execution_count": null,
      "outputs": []
    },
    {
      "cell_type": "code",
      "source": [
        "sns.lineplot(x = xtreino, y = ytreino, label='dados de treino')\n",
        "sns.lineplot(x = xteste, y = yteste, label='dados de teste')\n",
        "sns.lineplot(x = xtreino, y = y_predict[:,0], label='ajuste treino')\n",
        "sns.lineplot(x = xteste, y = y_predict_teste[:,0], label='previsão')"
      ],
      "metadata": {
        "colab": {
          "base_uri": "https://localhost:8080/"
        },
        "id": "AR-LC2JegPHL",
        "outputId": "06020948-fc24-480b-8683-7db73f2f1d55"
      },
      "execution_count": null,
      "outputs": [
        {
          "output_type": "execute_result",
          "data": {
            "text/plain": [
              "<matplotlib.axes._subplots.AxesSubplot at 0x7f69d2e680d0>"
            ]
          },
          "metadata": {},
          "execution_count": 36
        },
        {
          "output_type": "display_data",
          "data": {
            "text/plain": [
              "<Figure size 720x432 with 1 Axes>"
            ],
            "image/png": "[encoded data removed]"
          },
          "metadata": {
            "needs_background": "light"
          }
        }
      ]
    },
    {
      "cell_type": "markdown",
      "source": [
        "Observe que em suma o modelo está fazendo as mesmas previsões mesmo com duas camadas a mais. "
      ],
      "metadata": {
        "id": "_VjmiYzfhK0H"
      }
    },
    {
      "cell_type": "markdown",
      "source": [
        "Em todas as camadas estamos usando funcões de ativação lineares, porém podemos colocar funções não lineares no intúito de obter um melhor resultado"
      ],
      "metadata": {
        "id": "FP8jqJPrlcmh"
      }
    },
    {
      "cell_type": "markdown",
      "source": [
        "A função sigmoide é uma boa opção para o nosso problema pois a mesma pode ser adicionada em camadas intermediárias"
      ],
      "metadata": {
        "id": "_RoZjePmlyQa"
      }
    },
    {
      "cell_type": "code",
      "source": [
        "regressor2 = Sequential()"
      ],
      "metadata": {
        "id": "0K_XPQdMm2N-"
      },
      "execution_count": null,
      "outputs": []
    },
    {
      "cell_type": "code",
      "source": [
        "regressor2.add(Dense(8,input_dim = 1,kernel_initializer='random_uniform', activation='sigmoid', use_bias = False))\n",
        "\n",
        "regressor2.add(Dense(8,kernel_initializer='random_uniform', activation='sigmoid', use_bias = False))\n",
        "\n",
        "regressor2.add(Dense(1,kernel_initializer='random_uniform', activation='linear', use_bias = False))"
      ],
      "metadata": {
        "id": "REV1emVxgveM"
      },
      "execution_count": null,
      "outputs": []
    },
    {
      "cell_type": "code",
      "source": [
        "regressor2.compile(loss='mean_squared_error', optimizer='adam')"
      ],
      "metadata": {
        "id": "iq-R_jrPnC9P"
      },
      "execution_count": null,
      "outputs": []
    },
    {
      "cell_type": "code",
      "source": [
        "regressor2.fit(xtreino, ytreino, epochs=200)"
      ],
      "metadata": {
        "colab": {
          "base_uri": "https://localhost:8080/"
        },
        "id": "-KcIydb5nH8S",
        "outputId": "9b628227-b622-47e6-d59d-1e711aa1357a"
      },
      "execution_count": null,
      "outputs": [
        {
          "output_type": "stream",
          "name": "stdout",
          "text": [
            "Epoch 1/200\n",
            "5/5 [==============================] - 1s 4ms/step - loss: 0.7925\n",
            "Epoch 2/200\n",
            "5/5 [==============================] - 0s 4ms/step - loss: 0.7884\n",
            "Epoch 3/200\n",
            "5/5 [==============================] - 0s 4ms/step - loss: 0.7866\n",
            "Epoch 4/200\n",
            "5/5 [==============================] - 0s 3ms/step - loss: 0.7848\n",
            "Epoch 5/200\n",
            "5/5 [==============================] - 0s 7ms/step - loss: 0.7821\n",
            "Epoch 6/200\n",
            "5/5 [==============================] - 0s 3ms/step - loss: 0.7810\n",
            "Epoch 7/200\n",
            "5/5 [==============================] - 0s 5ms/step - loss: 0.7808\n",
            "Epoch 8/200\n",
            "5/5 [==============================] - 0s 6ms/step - loss: 0.7801\n",
            "Epoch 9/200\n",
            "5/5 [==============================] - 0s 4ms/step - loss: 0.7796\n",
            "Epoch 10/200\n",
            "5/5 [==============================] - 0s 7ms/step - loss: 0.7793\n",
            "Epoch 11/200\n",
            "5/5 [==============================] - 0s 6ms/step - loss: 0.7794\n",
            "Epoch 12/200\n",
            "5/5 [==============================] - 0s 7ms/step - loss: 0.7793\n",
            "Epoch 13/200\n",
            "5/5 [==============================] - 0s 8ms/step - loss: 0.7794\n",
            "Epoch 14/200\n",
            "5/5 [==============================] - 0s 5ms/step - loss: 0.7791\n",
            "Epoch 15/200\n",
            "5/5 [==============================] - 0s 4ms/step - loss: 0.7791\n",
            "Epoch 16/200\n",
            "5/5 [==============================] - 0s 4ms/step - loss: 0.7789\n",
            "Epoch 17/200\n",
            "5/5 [==============================] - 0s 4ms/step - loss: 0.7790\n",
            "Epoch 18/200\n",
            "5/5 [==============================] - 0s 3ms/step - loss: 0.7789\n",
            "Epoch 19/200\n",
            "5/5 [==============================] - 0s 3ms/step - loss: 0.7789\n",
            "Epoch 20/200\n",
            "5/5 [==============================] - 0s 3ms/step - loss: 0.7786\n",
            "Epoch 21/200\n",
            "5/5 [==============================] - 0s 4ms/step - loss: 0.7785\n",
            "Epoch 22/200\n",
            "5/5 [==============================] - 0s 4ms/step - loss: 0.7784\n",
            "Epoch 23/200\n",
            "5/5 [==============================] - 0s 5ms/step - loss: 0.7784\n",
            "Epoch 24/200\n",
            "5/5 [==============================] - 0s 4ms/step - loss: 0.7783\n",
            "Epoch 25/200\n",
            "5/5 [==============================] - 0s 4ms/step - loss: 0.7786\n",
            "Epoch 26/200\n",
            "5/5 [==============================] - 0s 4ms/step - loss: 0.7782\n",
            "Epoch 27/200\n",
            "5/5 [==============================] - 0s 3ms/step - loss: 0.7782\n",
            "Epoch 28/200\n",
            "5/5 [==============================] - 0s 6ms/step - loss: 0.7783\n",
            "Epoch 29/200\n",
            "5/5 [==============================] - 0s 4ms/step - loss: 0.7789\n",
            "Epoch 30/200\n",
            "5/5 [==============================] - 0s 5ms/step - loss: 0.7793\n",
            "Epoch 31/200\n",
            "5/5 [==============================] - 0s 4ms/step - loss: 0.7792\n",
            "Epoch 32/200\n",
            "5/5 [==============================] - 0s 6ms/step - loss: 0.7792\n",
            "Epoch 33/200\n",
            "5/5 [==============================] - 0s 4ms/step - loss: 0.7789\n",
            "Epoch 34/200\n",
            "5/5 [==============================] - 0s 4ms/step - loss: 0.7788\n",
            "Epoch 35/200\n",
            "5/5 [==============================] - 0s 3ms/step - loss: 0.7789\n",
            "Epoch 36/200\n",
            "5/5 [==============================] - 0s 4ms/step - loss: 0.7789\n",
            "Epoch 37/200\n",
            "5/5 [==============================] - 0s 5ms/step - loss: 0.7791\n",
            "Epoch 38/200\n",
            "5/5 [==============================] - 0s 5ms/step - loss: 0.7789\n",
            "Epoch 39/200\n",
            "5/5 [==============================] - 0s 8ms/step - loss: 0.7788\n",
            "Epoch 40/200\n",
            "5/5 [==============================] - 0s 9ms/step - loss: 0.7785\n",
            "Epoch 41/200\n",
            "5/5 [==============================] - 0s 5ms/step - loss: 0.7780\n",
            "Epoch 42/200\n",
            "5/5 [==============================] - 0s 4ms/step - loss: 0.7775\n",
            "Epoch 43/200\n",
            "5/5 [==============================] - 0s 7ms/step - loss: 0.7772\n",
            "Epoch 44/200\n",
            "5/5 [==============================] - 0s 4ms/step - loss: 0.7772\n",
            "Epoch 45/200\n",
            "5/5 [==============================] - 0s 6ms/step - loss: 0.7768\n",
            "Epoch 46/200\n",
            "5/5 [==============================] - 0s 4ms/step - loss: 0.7772\n",
            "Epoch 47/200\n",
            "5/5 [==============================] - 0s 3ms/step - loss: 0.7762\n",
            "Epoch 48/200\n",
            "5/5 [==============================] - 0s 3ms/step - loss: 0.7758\n",
            "Epoch 49/200\n",
            "5/5 [==============================] - 0s 5ms/step - loss: 0.7758\n",
            "Epoch 50/200\n",
            "5/5 [==============================] - 0s 3ms/step - loss: 0.7757\n",
            "Epoch 51/200\n",
            "5/5 [==============================] - 0s 3ms/step - loss: 0.7752\n",
            "Epoch 52/200\n",
            "5/5 [==============================] - 0s 3ms/step - loss: 0.7753\n",
            "Epoch 53/200\n",
            "5/5 [==============================] - 0s 4ms/step - loss: 0.7749\n",
            "Epoch 54/200\n",
            "5/5 [==============================] - 0s 6ms/step - loss: 0.7748\n",
            "Epoch 55/200\n",
            "5/5 [==============================] - 0s 7ms/step - loss: 0.7742\n",
            "Epoch 56/200\n",
            "5/5 [==============================] - 0s 5ms/step - loss: 0.7746\n",
            "Epoch 57/200\n",
            "5/5 [==============================] - 0s 5ms/step - loss: 0.7744\n",
            "Epoch 58/200\n",
            "5/5 [==============================] - 0s 4ms/step - loss: 0.7741\n",
            "Epoch 59/200\n",
            "5/5 [==============================] - 0s 6ms/step - loss: 0.7737\n",
            "Epoch 60/200\n",
            "5/5 [==============================] - 0s 5ms/step - loss: 0.7731\n",
            "Epoch 61/200\n",
            "5/5 [==============================] - 0s 5ms/step - loss: 0.7734\n",
            "Epoch 62/200\n",
            "5/5 [==============================] - 0s 5ms/step - loss: 0.7731\n",
            "Epoch 63/200\n",
            "5/5 [==============================] - 0s 4ms/step - loss: 0.7726\n",
            "Epoch 64/200\n",
            "5/5 [==============================] - 0s 4ms/step - loss: 0.7724\n",
            "Epoch 65/200\n",
            "5/5 [==============================] - 0s 4ms/step - loss: 0.7722\n",
            "Epoch 66/200\n",
            "5/5 [==============================] - 0s 4ms/step - loss: 0.7722\n",
            "Epoch 67/200\n",
            "5/5 [==============================] - 0s 6ms/step - loss: 0.7719\n",
            "Epoch 68/200\n",
            "5/5 [==============================] - 0s 7ms/step - loss: 0.7715\n",
            "Epoch 69/200\n",
            "5/5 [==============================] - 0s 7ms/step - loss: 0.7708\n",
            "Epoch 70/200\n",
            "5/5 [==============================] - 0s 6ms/step - loss: 0.7706\n",
            "Epoch 71/200\n",
            "5/5 [==============================] - 0s 4ms/step - loss: 0.7704\n",
            "Epoch 72/200\n",
            "5/5 [==============================] - 0s 5ms/step - loss: 0.7701\n",
            "Epoch 73/200\n",
            "5/5 [==============================] - 0s 5ms/step - loss: 0.7700\n",
            "Epoch 74/200\n",
            "5/5 [==============================] - 0s 4ms/step - loss: 0.7702\n",
            "Epoch 75/200\n",
            "5/5 [==============================] - 0s 6ms/step - loss: 0.7693\n",
            "Epoch 76/200\n",
            "5/5 [==============================] - 0s 8ms/step - loss: 0.7690\n",
            "Epoch 77/200\n",
            "5/5 [==============================] - 0s 8ms/step - loss: 0.7688\n",
            "Epoch 78/200\n",
            "5/5 [==============================] - 0s 4ms/step - loss: 0.7685\n",
            "Epoch 79/200\n",
            "5/5 [==============================] - 0s 3ms/step - loss: 0.7681\n",
            "Epoch 80/200\n",
            "5/5 [==============================] - 0s 4ms/step - loss: 0.7681\n",
            "Epoch 81/200\n",
            "5/5 [==============================] - 0s 6ms/step - loss: 0.7674\n",
            "Epoch 82/200\n",
            "5/5 [==============================] - 0s 4ms/step - loss: 0.7669\n",
            "Epoch 83/200\n",
            "5/5 [==============================] - 0s 6ms/step - loss: 0.7662\n",
            "Epoch 84/200\n",
            "5/5 [==============================] - 0s 5ms/step - loss: 0.7663\n",
            "Epoch 85/200\n",
            "5/5 [==============================] - 0s 4ms/step - loss: 0.7659\n",
            "Epoch 86/200\n",
            "5/5 [==============================] - 0s 8ms/step - loss: 0.7657\n",
            "Epoch 87/200\n",
            "5/5 [==============================] - 0s 4ms/step - loss: 0.7647\n",
            "Epoch 88/200\n",
            "5/5 [==============================] - 0s 4ms/step - loss: 0.7650\n",
            "Epoch 89/200\n",
            "5/5 [==============================] - 0s 5ms/step - loss: 0.7649\n",
            "Epoch 90/200\n",
            "5/5 [==============================] - 0s 4ms/step - loss: 0.7651\n",
            "Epoch 91/200\n",
            "5/5 [==============================] - 0s 4ms/step - loss: 0.7644\n",
            "Epoch 92/200\n",
            "5/5 [==============================] - 0s 4ms/step - loss: 0.7640\n",
            "Epoch 93/200\n",
            "5/5 [==============================] - 0s 4ms/step - loss: 0.7640\n",
            "Epoch 94/200\n",
            "5/5 [==============================] - 0s 3ms/step - loss: 0.7629\n",
            "Epoch 95/200\n",
            "5/5 [==============================] - 0s 3ms/step - loss: 0.7629\n",
            "Epoch 96/200\n",
            "5/5 [==============================] - 0s 6ms/step - loss: 0.7622\n",
            "Epoch 97/200\n",
            "5/5 [==============================] - 0s 6ms/step - loss: 0.7618\n",
            "Epoch 98/200\n",
            "5/5 [==============================] - 0s 3ms/step - loss: 0.7614\n",
            "Epoch 99/200\n",
            "5/5 [==============================] - 0s 6ms/step - loss: 0.7611\n",
            "Epoch 100/200\n",
            "5/5 [==============================] - 0s 5ms/step - loss: 0.7608\n",
            "Epoch 101/200\n",
            "5/5 [==============================] - 0s 4ms/step - loss: 0.7603\n",
            "Epoch 102/200\n",
            "5/5 [==============================] - 0s 4ms/step - loss: 0.7599\n",
            "Epoch 103/200\n",
            "5/5 [==============================] - 0s 7ms/step - loss: 0.7596\n",
            "Epoch 104/200\n",
            "5/5 [==============================] - 0s 4ms/step - loss: 0.7592\n",
            "Epoch 105/200\n",
            "5/5 [==============================] - 0s 5ms/step - loss: 0.7591\n",
            "Epoch 106/200\n",
            "5/5 [==============================] - 0s 3ms/step - loss: 0.7593\n",
            "Epoch 107/200\n",
            "5/5 [==============================] - 0s 6ms/step - loss: 0.7592\n",
            "Epoch 108/200\n",
            "5/5 [==============================] - 0s 6ms/step - loss: 0.7592\n",
            "Epoch 109/200\n",
            "5/5 [==============================] - 0s 8ms/step - loss: 0.7584\n",
            "Epoch 110/200\n",
            "5/5 [==============================] - 0s 5ms/step - loss: 0.7580\n",
            "Epoch 111/200\n",
            "5/5 [==============================] - 0s 5ms/step - loss: 0.7582\n",
            "Epoch 112/200\n",
            "5/5 [==============================] - 0s 5ms/step - loss: 0.7584\n",
            "Epoch 113/200\n",
            "5/5 [==============================] - 0s 4ms/step - loss: 0.7588\n",
            "Epoch 114/200\n",
            "5/5 [==============================] - 0s 4ms/step - loss: 0.7593\n",
            "Epoch 115/200\n",
            "5/5 [==============================] - 0s 4ms/step - loss: 0.7599\n",
            "Epoch 116/200\n",
            "5/5 [==============================] - 0s 5ms/step - loss: 0.7590\n",
            "Epoch 117/200\n",
            "5/5 [==============================] - 0s 4ms/step - loss: 0.7581\n",
            "Epoch 118/200\n",
            "5/5 [==============================] - 0s 4ms/step - loss: 0.7575\n",
            "Epoch 119/200\n",
            "5/5 [==============================] - 0s 6ms/step - loss: 0.7576\n",
            "Epoch 120/200\n",
            "5/5 [==============================] - 0s 4ms/step - loss: 0.7576\n",
            "Epoch 121/200\n",
            "5/5 [==============================] - 0s 4ms/step - loss: 0.7572\n",
            "Epoch 122/200\n",
            "5/5 [==============================] - 0s 8ms/step - loss: 0.7561\n",
            "Epoch 123/200\n",
            "5/5 [==============================] - 0s 6ms/step - loss: 0.7553\n",
            "Epoch 124/200\n",
            "5/5 [==============================] - 0s 7ms/step - loss: 0.7549\n",
            "Epoch 125/200\n",
            "5/5 [==============================] - 0s 5ms/step - loss: 0.7541\n",
            "Epoch 126/200\n",
            "5/5 [==============================] - 0s 4ms/step - loss: 0.7538\n",
            "Epoch 127/200\n",
            "5/5 [==============================] - 0s 4ms/step - loss: 0.7531\n",
            "Epoch 128/200\n",
            "5/5 [==============================] - 0s 7ms/step - loss: 0.7530\n",
            "Epoch 129/200\n",
            "5/5 [==============================] - 0s 3ms/step - loss: 0.7518\n",
            "Epoch 130/200\n",
            "5/5 [==============================] - 0s 4ms/step - loss: 0.7514\n",
            "Epoch 131/200\n",
            "5/5 [==============================] - 0s 4ms/step - loss: 0.7510\n",
            "Epoch 132/200\n",
            "5/5 [==============================] - 0s 4ms/step - loss: 0.7506\n",
            "Epoch 133/200\n",
            "5/5 [==============================] - 0s 4ms/step - loss: 0.7500\n",
            "Epoch 134/200\n",
            "5/5 [==============================] - 0s 6ms/step - loss: 0.7498\n",
            "Epoch 135/200\n",
            "5/5 [==============================] - 0s 4ms/step - loss: 0.7492\n",
            "Epoch 136/200\n",
            "5/5 [==============================] - 0s 5ms/step - loss: 0.7486\n",
            "Epoch 137/200\n",
            "5/5 [==============================] - 0s 4ms/step - loss: 0.7491\n",
            "Epoch 138/200\n",
            "5/5 [==============================] - 0s 4ms/step - loss: 0.7491\n",
            "Epoch 139/200\n",
            "5/5 [==============================] - 0s 4ms/step - loss: 0.7488\n",
            "Epoch 140/200\n",
            "5/5 [==============================] - 0s 5ms/step - loss: 0.7482\n",
            "Epoch 141/200\n",
            "5/5 [==============================] - 0s 4ms/step - loss: 0.7481\n",
            "Epoch 142/200\n",
            "5/5 [==============================] - 0s 5ms/step - loss: 0.7479\n",
            "Epoch 143/200\n",
            "5/5 [==============================] - 0s 4ms/step - loss: 0.7480\n",
            "Epoch 144/200\n",
            "5/5 [==============================] - 0s 4ms/step - loss: 0.7478\n",
            "Epoch 145/200\n",
            "5/5 [==============================] - 0s 6ms/step - loss: 0.7479\n",
            "Epoch 146/200\n",
            "5/5 [==============================] - 0s 5ms/step - loss: 0.7487\n",
            "Epoch 147/200\n",
            "5/5 [==============================] - 0s 4ms/step - loss: 0.7489\n",
            "Epoch 148/200\n",
            "5/5 [==============================] - 0s 3ms/step - loss: 0.7490\n",
            "Epoch 149/200\n",
            "5/5 [==============================] - 0s 7ms/step - loss: 0.7481\n",
            "Epoch 150/200\n",
            "5/5 [==============================] - 0s 4ms/step - loss: 0.7474\n",
            "Epoch 151/200\n",
            "5/5 [==============================] - 0s 4ms/step - loss: 0.7468\n",
            "Epoch 152/200\n",
            "5/5 [==============================] - 0s 5ms/step - loss: 0.7454\n",
            "Epoch 153/200\n",
            "5/5 [==============================] - 0s 5ms/step - loss: 0.7446\n",
            "Epoch 154/200\n",
            "5/5 [==============================] - 0s 4ms/step - loss: 0.7441\n",
            "Epoch 155/200\n",
            "5/5 [==============================] - 0s 7ms/step - loss: 0.7442\n",
            "Epoch 156/200\n",
            "5/5 [==============================] - 0s 7ms/step - loss: 0.7447\n",
            "Epoch 157/200\n",
            "5/5 [==============================] - 0s 6ms/step - loss: 0.7446\n",
            "Epoch 158/200\n",
            "5/5 [==============================] - 0s 4ms/step - loss: 0.7441\n",
            "Epoch 159/200\n",
            "5/5 [==============================] - 0s 4ms/step - loss: 0.7430\n",
            "Epoch 160/200\n",
            "5/5 [==============================] - 0s 4ms/step - loss: 0.7419\n",
            "Epoch 161/200\n",
            "5/5 [==============================] - 0s 5ms/step - loss: 0.7409\n",
            "Epoch 162/200\n",
            "5/5 [==============================] - 0s 5ms/step - loss: 0.7396\n",
            "Epoch 163/200\n",
            "5/5 [==============================] - 0s 5ms/step - loss: 0.7390\n",
            "Epoch 164/200\n",
            "5/5 [==============================] - 0s 4ms/step - loss: 0.7385\n",
            "Epoch 165/200\n",
            "5/5 [==============================] - 0s 4ms/step - loss: 0.7384\n",
            "Epoch 166/200\n",
            "5/5 [==============================] - 0s 7ms/step - loss: 0.7376\n",
            "Epoch 167/200\n",
            "5/5 [==============================] - 0s 6ms/step - loss: 0.7366\n",
            "Epoch 168/200\n",
            "5/5 [==============================] - 0s 7ms/step - loss: 0.7358\n",
            "Epoch 169/200\n",
            "5/5 [==============================] - 0s 5ms/step - loss: 0.7352\n",
            "Epoch 170/200\n",
            "5/5 [==============================] - 0s 4ms/step - loss: 0.7340\n",
            "Epoch 171/200\n",
            "5/5 [==============================] - 0s 4ms/step - loss: 0.7334\n",
            "Epoch 172/200\n",
            "5/5 [==============================] - 0s 4ms/step - loss: 0.7329\n",
            "Epoch 173/200\n",
            "5/5 [==============================] - 0s 9ms/step - loss: 0.7325\n",
            "Epoch 174/200\n",
            "5/5 [==============================] - 0s 5ms/step - loss: 0.7317\n",
            "Epoch 175/200\n",
            "5/5 [==============================] - 0s 4ms/step - loss: 0.7305\n",
            "Epoch 176/200\n",
            "5/5 [==============================] - 0s 4ms/step - loss: 0.7302\n",
            "Epoch 177/200\n",
            "5/5 [==============================] - 0s 4ms/step - loss: 0.7294\n",
            "Epoch 178/200\n",
            "5/5 [==============================] - 0s 5ms/step - loss: 0.7286\n",
            "Epoch 179/200\n",
            "5/5 [==============================] - 0s 4ms/step - loss: 0.7279\n",
            "Epoch 180/200\n",
            "5/5 [==============================] - 0s 4ms/step - loss: 0.7274\n",
            "Epoch 181/200\n",
            "5/5 [==============================] - 0s 5ms/step - loss: 0.7269\n",
            "Epoch 182/200\n",
            "5/5 [==============================] - 0s 5ms/step - loss: 0.7262\n",
            "Epoch 183/200\n",
            "5/5 [==============================] - 0s 5ms/step - loss: 0.7255\n",
            "Epoch 184/200\n",
            "5/5 [==============================] - 0s 6ms/step - loss: 0.7245\n",
            "Epoch 185/200\n",
            "5/5 [==============================] - 0s 5ms/step - loss: 0.7238\n",
            "Epoch 186/200\n",
            "5/5 [==============================] - 0s 5ms/step - loss: 0.7229\n",
            "Epoch 187/200\n",
            "5/5 [==============================] - 0s 4ms/step - loss: 0.7228\n",
            "Epoch 188/200\n",
            "5/5 [==============================] - 0s 4ms/step - loss: 0.7227\n",
            "Epoch 189/200\n",
            "5/5 [==============================] - 0s 5ms/step - loss: 0.7227\n",
            "Epoch 190/200\n",
            "5/5 [==============================] - 0s 4ms/step - loss: 0.7223\n",
            "Epoch 191/200\n",
            "5/5 [==============================] - 0s 6ms/step - loss: 0.7214\n",
            "Epoch 192/200\n",
            "5/5 [==============================] - 0s 4ms/step - loss: 0.7205\n",
            "Epoch 193/200\n",
            "5/5 [==============================] - 0s 7ms/step - loss: 0.7197\n",
            "Epoch 194/200\n",
            "5/5 [==============================] - 0s 7ms/step - loss: 0.7190\n",
            "Epoch 195/200\n",
            "5/5 [==============================] - 0s 5ms/step - loss: 0.7183\n",
            "Epoch 196/200\n",
            "5/5 [==============================] - 0s 5ms/step - loss: 0.7172\n",
            "Epoch 197/200\n",
            "5/5 [==============================] - 0s 5ms/step - loss: 0.7164\n",
            "Epoch 198/200\n",
            "5/5 [==============================] - 0s 5ms/step - loss: 0.7155\n",
            "Epoch 199/200\n",
            "5/5 [==============================] - 0s 5ms/step - loss: 0.7147\n",
            "Epoch 200/200\n",
            "5/5 [==============================] - 0s 4ms/step - loss: 0.7139\n"
          ]
        },
        {
          "output_type": "execute_result",
          "data": {
            "text/plain": [
              "<keras.callbacks.History at 0x7f69d2e4cc90>"
            ]
          },
          "metadata": {},
          "execution_count": 40
        }
      ]
    },
    {
      "cell_type": "code",
      "source": [
        "y_predict = regressor2.predict(xtreino)\n",
        "\n",
        "y_predict_teste = regressor2.predict(xteste)"
      ],
      "metadata": {
        "id": "YnPkuCQFnMrX"
      },
      "execution_count": null,
      "outputs": []
    },
    {
      "cell_type": "code",
      "source": [
        "sns.lineplot(x = xtreino, y = ytreino, label='dados de treino')\n",
        "sns.lineplot(x = xteste, y = yteste, label='dados de teste')\n",
        "sns.lineplot(x = xtreino, y = y_predict[:,0], label='ajuste treino')\n",
        "sns.lineplot(x = xteste, y = y_predict_teste[:,0], label='previsão')"
      ],
      "metadata": {
        "colab": {
          "base_uri": "https://localhost:8080/"
        },
        "id": "F2yHY4N_nWSQ",
        "outputId": "07a8b939-7a0d-4f17-be07-0d16163f5315"
      },
      "execution_count": null,
      "outputs": [
        {
          "output_type": "execute_result",
          "data": {
            "text/plain": [
              "<matplotlib.axes._subplots.AxesSubplot at 0x7f69d3f445d0>"
            ]
          },
          "metadata": {},
          "execution_count": 42
        },
        {
          "output_type": "display_data",
          "data": {
            "text/plain": [
              "<Figure size 720x432 with 1 Axes>"
            ],
            "image/png": "[encoded data removed]"
          },
          "metadata": {
            "needs_background": "light"
          }
        }
      ]
    },
    {
      "cell_type": "markdown",
      "source": [
        "Observe que a perda aumentou e a reta não está se ajustando bem aos dados"
      ],
      "metadata": {
        "id": "GmIt8hO1nmii"
      }
    },
    {
      "cell_type": "markdown",
      "source": [
        "##Reformulando o problema\n"
      ],
      "metadata": {
        "id": "8Wkm3_2coH4N"
      }
    },
    {
      "cell_type": "markdown",
      "source": [
        "Podemos passar o número de passageiros como se fosse a entrada e também a saída, como se a empresa estivesse querendo saber qual será a quantidade de passageiros em 2020 com dados de 2019"
      ],
      "metadata": {
        "id": "pc59GER3rHpl"
      }
    },
    {
      "cell_type": "markdown",
      "source": [
        "Acontecerá um atraso nos dados e vamos criar uma função para isso"
      ],
      "metadata": {
        "id": "KTIhyufirlxo"
      }
    },
    {
      "cell_type": "code",
      "source": [
        "vetor = pd.DataFrame(ytreino)[0]"
      ],
      "metadata": {
        "id": "oUQRkCCjs1oW"
      },
      "execution_count": null,
      "outputs": []
    },
    {
      "cell_type": "code",
      "source": [
        "import numpy as np\n",
        "\n",
        "def separa_dados(vetor, n_passos):\n",
        "  X_novo, Y_novo = [],[]\n",
        "  for i in range(n_passos, vetor.shape[0]):\n",
        "    X_novo.append(list(vetor.loc[i-n_passos: i-1]))\n",
        "    Y_novo.append(vetor.loc[i])\n",
        "  X_novo, Y_novo = np.array(X_novo), np.array(Y_novo)\n",
        "  return X_novo, Y_novo"
      ],
      "metadata": {
        "id": "MedccwYonbAD"
      },
      "execution_count": null,
      "outputs": []
    },
    {
      "cell_type": "code",
      "source": [
        "xtreino_novo, ytreino_novo = separa_dados(vetor,1)\n",
        "xtreino_novo[:5]"
      ],
      "metadata": {
        "colab": {
          "base_uri": "https://localhost:8080/"
        },
        "id": "l3Hlrp8yszD5",
        "outputId": "f00fa7ca-6a20-4db1-a052-7cc66dc9130e"
      },
      "execution_count": null,
      "outputs": [
        {
          "output_type": "execute_result",
          "data": {
            "text/plain": [
              "array([[-1.40777884],\n",
              "       [-1.35759023],\n",
              "       [-1.24048348],\n",
              "       [-1.26557778],\n",
              "       [-1.33249593]])"
            ]
          },
          "metadata": {},
          "execution_count": 45
        }
      ]
    },
    {
      "cell_type": "code",
      "source": [
        "ytreino_novo[:5]"
      ],
      "metadata": {
        "colab": {
          "base_uri": "https://localhost:8080/"
        },
        "id": "G8Xi52U1tJSY",
        "outputId": "5c89d54a-ff6c-4cca-9156-b5d1e8c0d3fc"
      },
      "execution_count": null,
      "outputs": [
        {
          "output_type": "execute_result",
          "data": {
            "text/plain": [
              "array([-1.35759023, -1.24048348, -1.26557778, -1.33249593, -1.21538918])"
            ]
          },
          "metadata": {},
          "execution_count": 46
        }
      ]
    },
    {
      "cell_type": "markdown",
      "source": [
        "Agora possuimos novos valores\n",
        "\n",
        "Agora vamos repetir isso para os dados de teste"
      ],
      "metadata": {
        "id": "LNjOYVswtzMt"
      }
    },
    {
      "cell_type": "code",
      "source": [
        "vetor2 = pd.DataFrame(yteste)[0]"
      ],
      "metadata": {
        "id": "BCO38Yc8tyft"
      },
      "execution_count": null,
      "outputs": []
    },
    {
      "cell_type": "code",
      "source": [
        "xteste_novo, yteste_novo = separa_dados(vetor2,1)"
      ],
      "metadata": {
        "id": "LD1draSAuIFR"
      },
      "execution_count": null,
      "outputs": []
    },
    {
      "cell_type": "markdown",
      "source": [
        "Criando a nova rede"
      ],
      "metadata": {
        "id": "8vI2nvhwvekG"
      }
    },
    {
      "cell_type": "code",
      "source": [
        "regressor3 = Sequential()\n",
        "regressor3.add(Dense(8, input_dim = 1, kernel_initializer='Ones', activation='linear', use_bias=False))\n",
        "\n",
        "regressor3.add(Dense(64, input_dim = 1, kernel_initializer='random_uniform', activation='sigmoid', use_bias=False))\n",
        "\n",
        "regressor3.add(Dense(1, input_dim = 1, kernel_initializer='random_uniform', activation='linear', use_bias=False))\n",
        "\n",
        "regressor3.compile(loss='mean_squared_error', optimizer='adam')\n",
        "\n",
        "regressor3.fit(xtreino_novo, ytreino_novo, epochs=100)"
      ],
      "metadata": {
        "colab": {
          "base_uri": "https://localhost:8080/"
        },
        "id": "KT5uF072uS9x",
        "outputId": "f9aa70ff-4780-4b0a-ac56-dc9e6f2b1a73"
      },
      "execution_count": null,
      "outputs": [
        {
          "output_type": "stream",
          "name": "stdout",
          "text": [
            "Epoch 1/100\n",
            "4/4 [==============================] - 1s 5ms/step - loss: 0.7737\n",
            "Epoch 2/100\n",
            "4/4 [==============================] - 0s 8ms/step - loss: 0.7476\n",
            "Epoch 3/100\n",
            "4/4 [==============================] - 0s 9ms/step - loss: 0.7262\n",
            "Epoch 4/100\n",
            "4/4 [==============================] - 0s 4ms/step - loss: 0.7022\n",
            "Epoch 5/100\n",
            "4/4 [==============================] - 0s 6ms/step - loss: 0.6807\n",
            "Epoch 6/100\n",
            "4/4 [==============================] - 0s 5ms/step - loss: 0.6549\n",
            "Epoch 7/100\n",
            "4/4 [==============================] - 0s 7ms/step - loss: 0.6284\n",
            "Epoch 8/100\n",
            "4/4 [==============================] - 0s 4ms/step - loss: 0.5993\n",
            "Epoch 9/100\n",
            "4/4 [==============================] - 0s 4ms/step - loss: 0.5676\n",
            "Epoch 10/100\n",
            "4/4 [==============================] - 0s 5ms/step - loss: 0.5357\n",
            "Epoch 11/100\n",
            "4/4 [==============================] - 0s 4ms/step - loss: 0.4977\n",
            "Epoch 12/100\n",
            "4/4 [==============================] - 0s 4ms/step - loss: 0.4605\n",
            "Epoch 13/100\n",
            "4/4 [==============================] - 0s 5ms/step - loss: 0.4199\n",
            "Epoch 14/100\n",
            "4/4 [==============================] - 0s 8ms/step - loss: 0.3822\n",
            "Epoch 15/100\n",
            "4/4 [==============================] - 0s 4ms/step - loss: 0.3414\n",
            "Epoch 16/100\n",
            "4/4 [==============================] - 0s 4ms/step - loss: 0.2973\n",
            "Epoch 17/100\n",
            "4/4 [==============================] - 0s 4ms/step - loss: 0.2626\n",
            "Epoch 18/100\n",
            "4/4 [==============================] - 0s 5ms/step - loss: 0.2235\n",
            "Epoch 19/100\n",
            "4/4 [==============================] - 0s 5ms/step - loss: 0.1885\n",
            "Epoch 20/100\n",
            "4/4 [==============================] - 0s 8ms/step - loss: 0.1611\n",
            "Epoch 21/100\n",
            "4/4 [==============================] - 0s 9ms/step - loss: 0.1353\n",
            "Epoch 22/100\n",
            "4/4 [==============================] - 0s 7ms/step - loss: 0.1125\n",
            "Epoch 23/100\n",
            "4/4 [==============================] - 0s 6ms/step - loss: 0.0955\n",
            "Epoch 24/100\n",
            "4/4 [==============================] - 0s 8ms/step - loss: 0.0836\n",
            "Epoch 25/100\n",
            "4/4 [==============================] - 0s 7ms/step - loss: 0.0739\n",
            "Epoch 26/100\n",
            "4/4 [==============================] - 0s 11ms/step - loss: 0.0691\n",
            "Epoch 27/100\n",
            "4/4 [==============================] - 0s 6ms/step - loss: 0.0649\n",
            "Epoch 28/100\n",
            "4/4 [==============================] - 0s 10ms/step - loss: 0.0635\n",
            "Epoch 29/100\n",
            "4/4 [==============================] - 0s 4ms/step - loss: 0.0628\n",
            "Epoch 30/100\n",
            "4/4 [==============================] - 0s 7ms/step - loss: 0.0626\n",
            "Epoch 31/100\n",
            "4/4 [==============================] - 0s 4ms/step - loss: 0.0625\n",
            "Epoch 32/100\n",
            "4/4 [==============================] - 0s 9ms/step - loss: 0.0626\n",
            "Epoch 33/100\n",
            "4/4 [==============================] - 0s 7ms/step - loss: 0.0626\n",
            "Epoch 34/100\n",
            "4/4 [==============================] - 0s 14ms/step - loss: 0.0627\n",
            "Epoch 35/100\n",
            "4/4 [==============================] - 0s 6ms/step - loss: 0.0626\n",
            "Epoch 36/100\n",
            "4/4 [==============================] - 0s 6ms/step - loss: 0.0626\n",
            "Epoch 37/100\n",
            "4/4 [==============================] - 0s 6ms/step - loss: 0.0627\n",
            "Epoch 38/100\n",
            "4/4 [==============================] - 0s 5ms/step - loss: 0.0627\n",
            "Epoch 39/100\n",
            "4/4 [==============================] - 0s 7ms/step - loss: 0.0626\n",
            "Epoch 40/100\n",
            "4/4 [==============================] - 0s 4ms/step - loss: 0.0625\n",
            "Epoch 41/100\n",
            "4/4 [==============================] - 0s 5ms/step - loss: 0.0625\n",
            "Epoch 42/100\n",
            "4/4 [==============================] - 0s 5ms/step - loss: 0.0626\n",
            "Epoch 43/100\n",
            "4/4 [==============================] - 0s 7ms/step - loss: 0.0625\n",
            "Epoch 44/100\n",
            "4/4 [==============================] - 0s 5ms/step - loss: 0.0625\n",
            "Epoch 45/100\n",
            "4/4 [==============================] - 0s 5ms/step - loss: 0.0625\n",
            "Epoch 46/100\n",
            "4/4 [==============================] - 0s 6ms/step - loss: 0.0625\n",
            "Epoch 47/100\n",
            "4/4 [==============================] - 0s 7ms/step - loss: 0.0625\n",
            "Epoch 48/100\n",
            "4/4 [==============================] - 0s 8ms/step - loss: 0.0624\n",
            "Epoch 49/100\n",
            "4/4 [==============================] - 0s 12ms/step - loss: 0.0625\n",
            "Epoch 50/100\n",
            "4/4 [==============================] - 0s 13ms/step - loss: 0.0625\n",
            "Epoch 51/100\n",
            "4/4 [==============================] - 0s 10ms/step - loss: 0.0625\n",
            "Epoch 52/100\n",
            "4/4 [==============================] - 0s 8ms/step - loss: 0.0625\n",
            "Epoch 53/100\n",
            "4/4 [==============================] - 0s 10ms/step - loss: 0.0625\n",
            "Epoch 54/100\n",
            "4/4 [==============================] - 0s 9ms/step - loss: 0.0626\n",
            "Epoch 55/100\n",
            "4/4 [==============================] - 0s 8ms/step - loss: 0.0625\n",
            "Epoch 56/100\n",
            "4/4 [==============================] - 0s 7ms/step - loss: 0.0626\n",
            "Epoch 57/100\n",
            "4/4 [==============================] - 0s 9ms/step - loss: 0.0624\n",
            "Epoch 58/100\n",
            "4/4 [==============================] - 0s 9ms/step - loss: 0.0625\n",
            "Epoch 59/100\n",
            "4/4 [==============================] - 0s 5ms/step - loss: 0.0629\n",
            "Epoch 60/100\n",
            "4/4 [==============================] - 0s 9ms/step - loss: 0.0625\n",
            "Epoch 61/100\n",
            "4/4 [==============================] - 0s 16ms/step - loss: 0.0626\n",
            "Epoch 62/100\n",
            "4/4 [==============================] - 0s 9ms/step - loss: 0.0625\n",
            "Epoch 63/100\n",
            "4/4 [==============================] - 0s 7ms/step - loss: 0.0624\n",
            "Epoch 64/100\n",
            "4/4 [==============================] - 0s 11ms/step - loss: 0.0626\n",
            "Epoch 65/100\n",
            "4/4 [==============================] - 0s 9ms/step - loss: 0.0626\n",
            "Epoch 66/100\n",
            "4/4 [==============================] - 0s 6ms/step - loss: 0.0625\n",
            "Epoch 67/100\n",
            "4/4 [==============================] - 0s 6ms/step - loss: 0.0626\n",
            "Epoch 68/100\n",
            "4/4 [==============================] - 0s 6ms/step - loss: 0.0627\n",
            "Epoch 69/100\n",
            "4/4 [==============================] - 0s 6ms/step - loss: 0.0626\n",
            "Epoch 70/100\n",
            "4/4 [==============================] - 0s 5ms/step - loss: 0.0627\n",
            "Epoch 71/100\n",
            "4/4 [==============================] - 0s 6ms/step - loss: 0.0627\n",
            "Epoch 72/100\n",
            "4/4 [==============================] - 0s 8ms/step - loss: 0.0625\n",
            "Epoch 73/100\n",
            "4/4 [==============================] - 0s 4ms/step - loss: 0.0626\n",
            "Epoch 74/100\n",
            "4/4 [==============================] - 0s 7ms/step - loss: 0.0626\n",
            "Epoch 75/100\n",
            "4/4 [==============================] - 0s 5ms/step - loss: 0.0625\n",
            "Epoch 76/100\n",
            "4/4 [==============================] - 0s 8ms/step - loss: 0.0625\n",
            "Epoch 77/100\n",
            "4/4 [==============================] - 0s 4ms/step - loss: 0.0627\n",
            "Epoch 78/100\n",
            "4/4 [==============================] - 0s 4ms/step - loss: 0.0625\n",
            "Epoch 79/100\n",
            "4/4 [==============================] - 0s 4ms/step - loss: 0.0626\n",
            "Epoch 80/100\n",
            "4/4 [==============================] - 0s 9ms/step - loss: 0.0624\n",
            "Epoch 81/100\n",
            "4/4 [==============================] - 0s 7ms/step - loss: 0.0625\n",
            "Epoch 82/100\n",
            "4/4 [==============================] - 0s 4ms/step - loss: 0.0625\n",
            "Epoch 83/100\n",
            "4/4 [==============================] - 0s 4ms/step - loss: 0.0624\n",
            "Epoch 84/100\n",
            "4/4 [==============================] - 0s 4ms/step - loss: 0.0627\n",
            "Epoch 85/100\n",
            "4/4 [==============================] - 0s 7ms/step - loss: 0.0625\n",
            "Epoch 86/100\n",
            "4/4 [==============================] - 0s 8ms/step - loss: 0.0625\n",
            "Epoch 87/100\n",
            "4/4 [==============================] - 0s 5ms/step - loss: 0.0624\n",
            "Epoch 88/100\n",
            "4/4 [==============================] - 0s 5ms/step - loss: 0.0626\n",
            "Epoch 89/100\n",
            "4/4 [==============================] - 0s 5ms/step - loss: 0.0626\n",
            "Epoch 90/100\n",
            "4/4 [==============================] - 0s 4ms/step - loss: 0.0625\n",
            "Epoch 91/100\n",
            "4/4 [==============================] - 0s 5ms/step - loss: 0.0625\n",
            "Epoch 92/100\n",
            "4/4 [==============================] - 0s 4ms/step - loss: 0.0625\n",
            "Epoch 93/100\n",
            "4/4 [==============================] - 0s 7ms/step - loss: 0.0624\n",
            "Epoch 94/100\n",
            "4/4 [==============================] - 0s 7ms/step - loss: 0.0626\n",
            "Epoch 95/100\n",
            "4/4 [==============================] - 0s 8ms/step - loss: 0.0624\n",
            "Epoch 96/100\n",
            "4/4 [==============================] - 0s 6ms/step - loss: 0.0624\n",
            "Epoch 97/100\n",
            "4/4 [==============================] - 0s 4ms/step - loss: 0.0624\n",
            "Epoch 98/100\n",
            "4/4 [==============================] - 0s 6ms/step - loss: 0.0625\n",
            "Epoch 99/100\n",
            "4/4 [==============================] - 0s 8ms/step - loss: 0.0626\n",
            "Epoch 100/100\n",
            "4/4 [==============================] - 0s 8ms/step - loss: 0.0626\n"
          ]
        },
        {
          "output_type": "execute_result",
          "data": {
            "text/plain": [
              "<keras.callbacks.History at 0x7f69d2c4d410>"
            ]
          },
          "metadata": {},
          "execution_count": 49
        }
      ]
    },
    {
      "cell_type": "code",
      "source": [
        "y_predict_novo = regressor3.predict(xtreino_novo)"
      ],
      "metadata": {
        "id": "fioBECu-x9aJ"
      },
      "execution_count": null,
      "outputs": []
    },
    {
      "cell_type": "code",
      "source": [
        "sns.lineplot(x='tempo', y  =ytreino_novo, data=passageiros[1:129], label='treino')\n",
        "sns.lineplot(x='tempo', y = pd.DataFrame(y_predict_novo)[0], data=passageiros[1:129], label='ajuste treino')"
      ],
      "metadata": {
        "colab": {
          "base_uri": "https://localhost:8080/"
        },
        "id": "FWfE_SCIyFUG",
        "outputId": "7259d063-2851-4de3-f8cf-239d3dcd3a70"
      },
      "execution_count": null,
      "outputs": [
        {
          "output_type": "execute_result",
          "data": {
            "text/plain": [
              "<matplotlib.axes._subplots.AxesSubplot at 0x7f69d2b10dd0>"
            ]
          },
          "metadata": {},
          "execution_count": 51
        },
        {
          "output_type": "display_data",
          "data": {
            "text/plain": [
              "<Figure size 720x432 with 1 Axes>"
            ],
            "image/png": "[encoded data removed]"
          },
          "metadata": {
            "needs_background": "light"
          }
        }
      ]
    },
    {
      "cell_type": "code",
      "source": [
        "y_predict_teste_novo = regressor3.predict(xteste_novo)\n",
        "\n",
        "sns.lineplot(x='tempo', y  =ytreino_novo, data=passageiros[1:129], label='treino')\n",
        "sns.lineplot(x='tempo', y = pd.DataFrame(y_predict_novo)[0], data=passageiros[1:129], label='ajuste treino')\n",
        "sns.lineplot(x='tempo', y = yteste_novo, data=passageiros[130:144], label='teste')\n",
        "sns.lineplot(x='tempo', y =pd.DataFrame(y_predict_teste_novo)[0].values, data=passageiros[130:144], label='previsão')"
      ],
      "metadata": {
        "colab": {
          "base_uri": "https://localhost:8080/"
        },
        "id": "hpFWYrhByl5X",
        "outputId": "c7a63b01-ca7c-4f9f-e5e7-f16f5e7a26d1"
      },
      "execution_count": null,
      "outputs": [
        {
          "output_type": "execute_result",
          "data": {
            "text/plain": [
              "<matplotlib.axes._subplots.AxesSubplot at 0x7f69d2a82d90>"
            ]
          },
          "metadata": {},
          "execution_count": 52
        },
        {
          "output_type": "display_data",
          "data": {
            "text/plain": [
              "<Figure size 720x432 with 1 Axes>"
            ],
            "image/png": "[encoded data removed]"
          },
          "metadata": {
            "needs_background": "light"
          }
        }
      ]
    },
    {
      "cell_type": "markdown",
      "source": [
        "Agora possuimos uma previsão muito mais satisfatória"
      ],
      "metadata": {
        "id": "PusZd5Bvzn5u"
      }
    },
    {
      "cell_type": "markdown",
      "source": [
        "## Rdes recorrentes"
      ],
      "metadata": {
        "id": "eJyPT3u-2iSH"
      }
    },
    {
      "cell_type": "markdown",
      "source": [
        "Usando outra base de dados"
      ],
      "metadata": {
        "id": "CzfwzN_02kfo"
      }
    },
    {
      "cell_type": "code",
      "source": [
        "uri = 'https://raw.githubusercontent.com/alura-cursos/deeptime/aula4/bicicletas.csv'\n",
        "bike = pd.read_csv(uri)\n",
        "bike.head()"
      ],
      "metadata": {
        "colab": {
          "base_uri": "https://localhost:8080/",
          "height": 206
        },
        "id": "mwNyj9jn1Qub",
        "outputId": "cd27428c-1223-42d4-c7cc-b76b07d37b62"
      },
      "execution_count": null,
      "outputs": [
        {
          "output_type": "execute_result",
          "data": {
            "text/plain": [
              "                 datas  contagem  temperatura  sensacao  umidade  vel_vento  \\\n",
              "0  2015-01-04 00:00:00       182          3.0       2.0     93.0        6.0   \n",
              "1  2015-01-04 01:00:00       138          3.0       2.5     93.0        5.0   \n",
              "2  2015-01-04 02:00:00       134          2.5       2.5     96.5        0.0   \n",
              "3  2015-01-04 03:00:00        72          2.0       2.0    100.0        0.0   \n",
              "4  2015-01-04 04:00:00        47          2.0       0.0     93.0        6.5   \n",
              "\n",
              "   clima  feriado  final_ds  estacao  \n",
              "0    3.0      0.0       1.0      3.0  \n",
              "1    1.0      0.0       1.0      3.0  \n",
              "2    1.0      0.0       1.0      3.0  \n",
              "3    1.0      0.0       1.0      3.0  \n",
              "4    1.0      0.0       1.0      3.0  "
            ],
            "text/html": [
              "\n",
              "  <div id=\"df-91ecd930-2a0d-4d22-ac8c-e8917d01b7e9\">\n",
              "    <div class=\"colab-df-container\">\n",
              "      <div>\n",
              "<style scoped>\n",
              "    .dataframe tbody tr th:only-of-type {\n",
              "        vertical-align: middle;\n",
              "    }\n",
              "\n",
              "    .dataframe tbody tr th {\n",
              "        vertical-align: top;\n",
              "    }\n",
              "\n",
              "    .dataframe thead th {\n",
              "        text-align: right;\n",
              "    }\n",
              "</style>\n",
              "<table border=\"1\" class=\"dataframe\">\n",
              "  <thead>\n",
              "    <tr style=\"text-align: right;\">\n",
              "      <th></th>\n",
              "      <th>datas</th>\n",
              "      <th>contagem</th>\n",
              "      <th>temperatura</th>\n",
              "      <th>sensacao</th>\n",
              "      <th>umidade</th>\n",
              "      <th>vel_vento</th>\n",
              "      <th>clima</th>\n",
              "      <th>feriado</th>\n",
              "      <th>final_ds</th>\n",
              "      <th>estacao</th>\n",
              "    </tr>\n",
              "  </thead>\n",
              "  <tbody>\n",
              "    <tr>\n",
              "      <th>0</th>\n",
              "      <td>2015-01-04 00:00:00</td>\n",
              "      <td>182</td>\n",
              "      <td>3.0</td>\n",
              "      <td>2.0</td>\n",
              "      <td>93.0</td>\n",
              "      <td>6.0</td>\n",
              "      <td>3.0</td>\n",
              "      <td>0.0</td>\n",
              "      <td>1.0</td>\n",
              "      <td>3.0</td>\n",
              "    </tr>\n",
              "    <tr>\n",
              "      <th>1</th>\n",
              "      <td>2015-01-04 01:00:00</td>\n",
              "      <td>138</td>\n",
              "      <td>3.0</td>\n",
              "      <td>2.5</td>\n",
              "      <td>93.0</td>\n",
              "      <td>5.0</td>\n",
              "      <td>1.0</td>\n",
              "      <td>0.0</td>\n",
              "      <td>1.0</td>\n",
              "      <td>3.0</td>\n",
              "    </tr>\n",
              "    <tr>\n",
              "      <th>2</th>\n",
              "      <td>2015-01-04 02:00:00</td>\n",
              "      <td>134</td>\n",
              "      <td>2.5</td>\n",
              "      <td>2.5</td>\n",
              "      <td>96.5</td>\n",
              "      <td>0.0</td>\n",
              "      <td>1.0</td>\n",
              "      <td>0.0</td>\n",
              "      <td>1.0</td>\n",
              "      <td>3.0</td>\n",
              "    </tr>\n",
              "    <tr>\n",
              "      <th>3</th>\n",
              "      <td>2015-01-04 03:00:00</td>\n",
              "      <td>72</td>\n",
              "      <td>2.0</td>\n",
              "      <td>2.0</td>\n",
              "      <td>100.0</td>\n",
              "      <td>0.0</td>\n",
              "      <td>1.0</td>\n",
              "      <td>0.0</td>\n",
              "      <td>1.0</td>\n",
              "      <td>3.0</td>\n",
              "    </tr>\n",
              "    <tr>\n",
              "      <th>4</th>\n",
              "      <td>2015-01-04 04:00:00</td>\n",
              "      <td>47</td>\n",
              "      <td>2.0</td>\n",
              "      <td>0.0</td>\n",
              "      <td>93.0</td>\n",
              "      <td>6.5</td>\n",
              "      <td>1.0</td>\n",
              "      <td>0.0</td>\n",
              "      <td>1.0</td>\n",
              "      <td>3.0</td>\n",
              "    </tr>\n",
              "  </tbody>\n",
              "</table>\n",
              "</div>\n",
              "      <button class=\"colab-df-convert\" onclick=\"convertToInteractive('df-91ecd930-2a0d-4d22-ac8c-e8917d01b7e9')\"\n",
              "              title=\"Convert this dataframe to an interactive table.\"\n",
              "              style=\"display:none;\">\n",
              "        \n",
              "  <svg xmlns=\"http://www.w3.org/2000/svg\" height=\"24px\"viewBox=\"0 0 24 24\"\n",
              "       width=\"24px\">\n",
              "    <path d=\"M0 0h24v24H0V0z\" fill=\"none\"/>\n",
              "    <path d=\"M18.56 5.44l.94 2.06.94-2.06 2.06-.94-2.06-.94-.94-2.06-.94 2.06-2.06.94zm-11 1L8.5 8.5l.94-2.06 2.06-.94-2.06-.94L8.5 2.5l-.94 2.06-2.06.94zm10 10l.94 2.06.94-2.06 2.06-.94-2.06-.94-.94-2.06-.94 2.06-2.06.94z\"/><path d=\"M17.41 7.96l-1.37-1.37c-.4-.4-.92-.59-1.43-.59-.52 0-1.04.2-1.43.59L10.3 9.45l-7.72 7.72c-.78.78-.78 2.05 0 2.83L4 21.41c.39.39.9.59 1.41.59.51 0 1.02-.2 1.41-.59l7.78-7.78 2.81-2.81c.8-.78.8-2.07 0-2.86zM5.41 20L4 18.59l7.72-7.72 1.47 1.35L5.41 20z\"/>\n",
              "  </svg>\n",
              "      </button>\n",
              "      \n",
              "  <style>\n",
              "    .colab-df-container {\n",
              "      display:flex;\n",
              "      flex-wrap:wrap;\n",
              "      gap: 12px;\n",
              "    }\n",
              "\n",
              "    .colab-df-convert {\n",
              "      background-color: #E8F0FE;\n",
              "      border: none;\n",
              "      border-radius: 50%;\n",
              "      cursor: pointer;\n",
              "      display: none;\n",
              "      fill: #1967D2;\n",
              "      height: 32px;\n",
              "      padding: 0 0 0 0;\n",
              "      width: 32px;\n",
              "    }\n",
              "\n",
              "    .colab-df-convert:hover {\n",
              "      background-color: #E2EBFA;\n",
              "      box-shadow: 0px 1px 2px rgba(60, 64, 67, 0.3), 0px 1px 3px 1px rgba(60, 64, 67, 0.15);\n",
              "      fill: #174EA6;\n",
              "    }\n",
              "\n",
              "    [theme=dark] .colab-df-convert {\n",
              "      background-color: #3B4455;\n",
              "      fill: #D2E3FC;\n",
              "    }\n",
              "\n",
              "    [theme=dark] .colab-df-convert:hover {\n",
              "      background-color: #434B5C;\n",
              "      box-shadow: 0px 1px 3px 1px rgba(0, 0, 0, 0.15);\n",
              "      filter: drop-shadow(0px 1px 2px rgba(0, 0, 0, 0.3));\n",
              "      fill: #FFFFFF;\n",
              "    }\n",
              "  </style>\n",
              "\n",
              "      <script>\n",
              "        const buttonEl =\n",
              "          document.querySelector('#df-91ecd930-2a0d-4d22-ac8c-e8917d01b7e9 button.colab-df-convert');\n",
              "        buttonEl.style.display =\n",
              "          google.colab.kernel.accessAllowed ? 'block' : 'none';\n",
              "\n",
              "        async function convertToInteractive(key) {\n",
              "          const element = document.querySelector('#df-91ecd930-2a0d-4d22-ac8c-e8917d01b7e9');\n",
              "          const dataTable =\n",
              "            await google.colab.kernel.invokeFunction('convertToInteractive',\n",
              "                                                     [key], {});\n",
              "          if (!dataTable) return;\n",
              "\n",
              "          const docLinkHtml = 'Like what you see? Visit the ' +\n",
              "            '<a target=\"_blank\" href=https://colab.research.google.com/notebooks/data_table.ipynb>data table notebook</a>'\n",
              "            + ' to learn more about interactive tables.';\n",
              "          element.innerHTML = '';\n",
              "          dataTable['output_type'] = 'display_data';\n",
              "          await google.colab.output.renderOutput(dataTable, element);\n",
              "          const docLink = document.createElement('div');\n",
              "          docLink.innerHTML = docLinkHtml;\n",
              "          element.appendChild(docLink);\n",
              "        }\n",
              "      </script>\n",
              "    </div>\n",
              "  </div>\n",
              "  "
            ]
          },
          "metadata": {},
          "execution_count": 53
        }
      ]
    },
    {
      "cell_type": "markdown",
      "source": [
        "Vamos tentar prever a quantidade de bicicletas que serão alugadas no futuro"
      ],
      "metadata": {
        "id": "gesizQVG3WqI"
      }
    },
    {
      "cell_type": "code",
      "source": [
        "bike['datas'] = pd.to_datetime(bike['datas'])\n",
        "bike.head()"
      ],
      "metadata": {
        "colab": {
          "base_uri": "https://localhost:8080/",
          "height": 206
        },
        "id": "cIQ7lrQn20Q4",
        "outputId": "39145046-7d18-4718-e64e-51fc8050c425"
      },
      "execution_count": null,
      "outputs": [
        {
          "output_type": "execute_result",
          "data": {
            "text/plain": [
              "                datas  contagem  temperatura  sensacao  umidade  vel_vento  \\\n",
              "0 2015-01-04 00:00:00       182          3.0       2.0     93.0        6.0   \n",
              "1 2015-01-04 01:00:00       138          3.0       2.5     93.0        5.0   \n",
              "2 2015-01-04 02:00:00       134          2.5       2.5     96.5        0.0   \n",
              "3 2015-01-04 03:00:00        72          2.0       2.0    100.0        0.0   \n",
              "4 2015-01-04 04:00:00        47          2.0       0.0     93.0        6.5   \n",
              "\n",
              "   clima  feriado  final_ds  estacao  \n",
              "0    3.0      0.0       1.0      3.0  \n",
              "1    1.0      0.0       1.0      3.0  \n",
              "2    1.0      0.0       1.0      3.0  \n",
              "3    1.0      0.0       1.0      3.0  \n",
              "4    1.0      0.0       1.0      3.0  "
            ],
            "text/html": [
              "\n",
              "  <div id=\"df-6edc74bc-1cc3-4523-a2f0-95c04eeca4a6\">\n",
              "    <div class=\"colab-df-container\">\n",
              "      <div>\n",
              "<style scoped>\n",
              "    .dataframe tbody tr th:only-of-type {\n",
              "        vertical-align: middle;\n",
              "    }\n",
              "\n",
              "    .dataframe tbody tr th {\n",
              "        vertical-align: top;\n",
              "    }\n",
              "\n",
              "    .dataframe thead th {\n",
              "        text-align: right;\n",
              "    }\n",
              "</style>\n",
              "<table border=\"1\" class=\"dataframe\">\n",
              "  <thead>\n",
              "    <tr style=\"text-align: right;\">\n",
              "      <th></th>\n",
              "      <th>datas</th>\n",
              "      <th>contagem</th>\n",
              "      <th>temperatura</th>\n",
              "      <th>sensacao</th>\n",
              "      <th>umidade</th>\n",
              "      <th>vel_vento</th>\n",
              "      <th>clima</th>\n",
              "      <th>feriado</th>\n",
              "      <th>final_ds</th>\n",
              "      <th>estacao</th>\n",
              "    </tr>\n",
              "  </thead>\n",
              "  <tbody>\n",
              "    <tr>\n",
              "      <th>0</th>\n",
              "      <td>2015-01-04 00:00:00</td>\n",
              "      <td>182</td>\n",
              "      <td>3.0</td>\n",
              "      <td>2.0</td>\n",
              "      <td>93.0</td>\n",
              "      <td>6.0</td>\n",
              "      <td>3.0</td>\n",
              "      <td>0.0</td>\n",
              "      <td>1.0</td>\n",
              "      <td>3.0</td>\n",
              "    </tr>\n",
              "    <tr>\n",
              "      <th>1</th>\n",
              "      <td>2015-01-04 01:00:00</td>\n",
              "      <td>138</td>\n",
              "      <td>3.0</td>\n",
              "      <td>2.5</td>\n",
              "      <td>93.0</td>\n",
              "      <td>5.0</td>\n",
              "      <td>1.0</td>\n",
              "      <td>0.0</td>\n",
              "      <td>1.0</td>\n",
              "      <td>3.0</td>\n",
              "    </tr>\n",
              "    <tr>\n",
              "      <th>2</th>\n",
              "      <td>2015-01-04 02:00:00</td>\n",
              "      <td>134</td>\n",
              "      <td>2.5</td>\n",
              "      <td>2.5</td>\n",
              "      <td>96.5</td>\n",
              "      <td>0.0</td>\n",
              "      <td>1.0</td>\n",
              "      <td>0.0</td>\n",
              "      <td>1.0</td>\n",
              "      <td>3.0</td>\n",
              "    </tr>\n",
              "    <tr>\n",
              "      <th>3</th>\n",
              "      <td>2015-01-04 03:00:00</td>\n",
              "      <td>72</td>\n",
              "      <td>2.0</td>\n",
              "      <td>2.0</td>\n",
              "      <td>100.0</td>\n",
              "      <td>0.0</td>\n",
              "      <td>1.0</td>\n",
              "      <td>0.0</td>\n",
              "      <td>1.0</td>\n",
              "      <td>3.0</td>\n",
              "    </tr>\n",
              "    <tr>\n",
              "      <th>4</th>\n",
              "      <td>2015-01-04 04:00:00</td>\n",
              "      <td>47</td>\n",
              "      <td>2.0</td>\n",
              "      <td>0.0</td>\n",
              "      <td>93.0</td>\n",
              "      <td>6.5</td>\n",
              "      <td>1.0</td>\n",
              "      <td>0.0</td>\n",
              "      <td>1.0</td>\n",
              "      <td>3.0</td>\n",
              "    </tr>\n",
              "  </tbody>\n",
              "</table>\n",
              "</div>\n",
              "      <button class=\"colab-df-convert\" onclick=\"convertToInteractive('df-6edc74bc-1cc3-4523-a2f0-95c04eeca4a6')\"\n",
              "              title=\"Convert this dataframe to an interactive table.\"\n",
              "              style=\"display:none;\">\n",
              "        \n",
              "  <svg xmlns=\"http://www.w3.org/2000/svg\" height=\"24px\"viewBox=\"0 0 24 24\"\n",
              "       width=\"24px\">\n",
              "    <path d=\"M0 0h24v24H0V0z\" fill=\"none\"/>\n",
              "    <path d=\"M18.56 5.44l.94 2.06.94-2.06 2.06-.94-2.06-.94-.94-2.06-.94 2.06-2.06.94zm-11 1L8.5 8.5l.94-2.06 2.06-.94-2.06-.94L8.5 2.5l-.94 2.06-2.06.94zm10 10l.94 2.06.94-2.06 2.06-.94-2.06-.94-.94-2.06-.94 2.06-2.06.94z\"/><path d=\"M17.41 7.96l-1.37-1.37c-.4-.4-.92-.59-1.43-.59-.52 0-1.04.2-1.43.59L10.3 9.45l-7.72 7.72c-.78.78-.78 2.05 0 2.83L4 21.41c.39.39.9.59 1.41.59.51 0 1.02-.2 1.41-.59l7.78-7.78 2.81-2.81c.8-.78.8-2.07 0-2.86zM5.41 20L4 18.59l7.72-7.72 1.47 1.35L5.41 20z\"/>\n",
              "  </svg>\n",
              "      </button>\n",
              "      \n",
              "  <style>\n",
              "    .colab-df-container {\n",
              "      display:flex;\n",
              "      flex-wrap:wrap;\n",
              "      gap: 12px;\n",
              "    }\n",
              "\n",
              "    .colab-df-convert {\n",
              "      background-color: #E8F0FE;\n",
              "      border: none;\n",
              "      border-radius: 50%;\n",
              "      cursor: pointer;\n",
              "      display: none;\n",
              "      fill: #1967D2;\n",
              "      height: 32px;\n",
              "      padding: 0 0 0 0;\n",
              "      width: 32px;\n",
              "    }\n",
              "\n",
              "    .colab-df-convert:hover {\n",
              "      background-color: #E2EBFA;\n",
              "      box-shadow: 0px 1px 2px rgba(60, 64, 67, 0.3), 0px 1px 3px 1px rgba(60, 64, 67, 0.15);\n",
              "      fill: #174EA6;\n",
              "    }\n",
              "\n",
              "    [theme=dark] .colab-df-convert {\n",
              "      background-color: #3B4455;\n",
              "      fill: #D2E3FC;\n",
              "    }\n",
              "\n",
              "    [theme=dark] .colab-df-convert:hover {\n",
              "      background-color: #434B5C;\n",
              "      box-shadow: 0px 1px 3px 1px rgba(0, 0, 0, 0.15);\n",
              "      filter: drop-shadow(0px 1px 2px rgba(0, 0, 0, 0.3));\n",
              "      fill: #FFFFFF;\n",
              "    }\n",
              "  </style>\n",
              "\n",
              "      <script>\n",
              "        const buttonEl =\n",
              "          document.querySelector('#df-6edc74bc-1cc3-4523-a2f0-95c04eeca4a6 button.colab-df-convert');\n",
              "        buttonEl.style.display =\n",
              "          google.colab.kernel.accessAllowed ? 'block' : 'none';\n",
              "\n",
              "        async function convertToInteractive(key) {\n",
              "          const element = document.querySelector('#df-6edc74bc-1cc3-4523-a2f0-95c04eeca4a6');\n",
              "          const dataTable =\n",
              "            await google.colab.kernel.invokeFunction('convertToInteractive',\n",
              "                                                     [key], {});\n",
              "          if (!dataTable) return;\n",
              "\n",
              "          const docLinkHtml = 'Like what you see? Visit the ' +\n",
              "            '<a target=\"_blank\" href=https://colab.research.google.com/notebooks/data_table.ipynb>data table notebook</a>'\n",
              "            + ' to learn more about interactive tables.';\n",
              "          element.innerHTML = '';\n",
              "          dataTable['output_type'] = 'display_data';\n",
              "          await google.colab.output.renderOutput(dataTable, element);\n",
              "          const docLink = document.createElement('div');\n",
              "          docLink.innerHTML = docLinkHtml;\n",
              "          element.appendChild(docLink);\n",
              "        }\n",
              "      </script>\n",
              "    </div>\n",
              "  </div>\n",
              "  "
            ]
          },
          "metadata": {},
          "execution_count": 54
        }
      ]
    },
    {
      "cell_type": "code",
      "source": [
        "sns.lineplot(x='datas', y = 'contagem', data=bike)\n",
        "plt.xticks(rotation=70)"
      ],
      "metadata": {
        "colab": {
          "base_uri": "https://localhost:8080/",
          "height": 517
        },
        "id": "ySIPIf_c3q-p",
        "outputId": "cab43871-ab0f-4c7a-b92d-8d4516ae7ad0"
      },
      "execution_count": null,
      "outputs": [
        {
          "output_type": "execute_result",
          "data": {
            "text/plain": [
              "(array([735599., 735689., 735780., 735872., 735964., 736055., 736146.,\n",
              "        736238., 736330.]), <a list of 9 Text major ticklabel objects>)"
            ]
          },
          "metadata": {},
          "execution_count": 55
        },
        {
          "output_type": "display_data",
          "data": {
            "text/plain": [
              "<Figure size 720x432 with 1 Axes>"
            ],
            "image/png": "[encoded data removed]"
          },
          "metadata": {
            "needs_background": "light"
          }
        }
      ]
    },
    {
      "cell_type": "markdown",
      "source": [
        "escalando os dados\n",
        "\n",
        "a contagem de bicicletas será usada na entrada e na saída"
      ],
      "metadata": {
        "id": "fX7oJ_m_4OA8"
      }
    },
    {
      "cell_type": "code",
      "source": [
        "sc2 = StandardScaler()\n",
        "sc2.fit(bike['contagem'].values.reshape(-1,1))"
      ],
      "metadata": {
        "colab": {
          "base_uri": "https://localhost:8080/"
        },
        "id": "8oyin0om31Ve",
        "outputId": "cf664de6-4a9b-4861-be06-3424737aa746"
      },
      "execution_count": null,
      "outputs": [
        {
          "output_type": "execute_result",
          "data": {
            "text/plain": [
              "StandardScaler()"
            ]
          },
          "metadata": {},
          "execution_count": 56
        }
      ]
    },
    {
      "cell_type": "code",
      "source": [
        "y = sc2.transform(bike['contagem'].values.reshape(-1,1))"
      ],
      "metadata": {
        "id": "eg-MN-YL4vO1"
      },
      "execution_count": null,
      "outputs": []
    },
    {
      "cell_type": "code",
      "source": [
        "tamanho_treino = int(len(bike)*0.9)\n",
        "tamanho_teste = len(bike) - tamanho_treino"
      ],
      "metadata": {
        "id": "OFnziDgu46P5"
      },
      "execution_count": null,
      "outputs": []
    },
    {
      "cell_type": "code",
      "source": [
        "ytreino = y[0:tamanho_treino]"
      ],
      "metadata": {
        "id": "EPQMkCs15QPo"
      },
      "execution_count": null,
      "outputs": []
    },
    {
      "cell_type": "code",
      "source": [
        "yteste = y[tamanho_treino:len(bike)]"
      ],
      "metadata": {
        "id": "5ZOJcHnb5ds6"
      },
      "execution_count": null,
      "outputs": []
    },
    {
      "cell_type": "code",
      "source": [
        "\n",
        "sns.lineplot(x='datas', y=ytreino[:,0], data = bike[:tamanho_treino], label='treino')\n",
        "sns.lineplot(x='datas', y=yteste[:,0], data = bike[tamanho_treino:], label='teste')\n",
        "plt.xticks(rotation=70)"
      ],
      "metadata": {
        "colab": {
          "base_uri": "https://localhost:8080/",
          "height": 517
        },
        "id": "AxdrlXx85kNL",
        "outputId": "31bea27b-8b5f-4450-d74c-098bb143c09d"
      },
      "execution_count": null,
      "outputs": [
        {
          "output_type": "execute_result",
          "data": {
            "text/plain": [
              "(array([735599., 735689., 735780., 735872., 735964., 736055., 736146.,\n",
              "        736238., 736330.]), <a list of 9 Text major ticklabel objects>)"
            ]
          },
          "metadata": {},
          "execution_count": 61
        },
        {
          "output_type": "display_data",
          "data": {
            "text/plain": [
              "<Figure size 720x432 with 1 Axes>"
            ],
            "image/png": "[encoded data removed]"
          },
          "metadata": {
            "needs_background": "light"
          }
        }
      ]
    },
    {
      "cell_type": "code",
      "source": [
        "vetor = pd.DataFrame(ytreino)[0]\n",
        "xtreino_novo, ytreino_novo = separa_dados(vetor, 10)"
      ],
      "metadata": {
        "id": "zNpeq6xy51VY"
      },
      "execution_count": null,
      "outputs": []
    },
    {
      "cell_type": "code",
      "source": [
        "vetor2 = pd.DataFrame(yteste)[0]"
      ],
      "metadata": {
        "id": "IzFF1-1G8uBI"
      },
      "execution_count": null,
      "outputs": []
    },
    {
      "cell_type": "code",
      "source": [
        "xtreino_novo, ytreino_novo = separa_dados(vetor2, 10)"
      ],
      "metadata": {
        "id": "gJnf4hUc6o9i"
      },
      "execution_count": null,
      "outputs": []
    },
    {
      "cell_type": "code",
      "source": [
        "xtreino_novo = xtreino_novo.reshape(xtreino_novo.shape[0],xtreino_novo.shape[1],1)"
      ],
      "metadata": {
        "id": "HIFvX1kD8zKG"
      },
      "execution_count": null,
      "outputs": []
    },
    {
      "cell_type": "code",
      "source": [
        "xteste_novo = xteste_novo.reshape(xteste_novo.shape[0], xteste_novo.shape[1],1)"
      ],
      "metadata": {
        "id": "7GfnHnKaSglV"
      },
      "execution_count": null,
      "outputs": []
    },
    {
      "cell_type": "code",
      "source": [
        "recorrente = Sequential()"
      ],
      "metadata": {
        "id": "1w8X0tzlStkK"
      },
      "execution_count": null,
      "outputs": []
    },
    {
      "cell_type": "code",
      "source": [
        "from tensorflow.keras.layers import LSTM\n",
        "recorrente.add(LSTM(128, input_shape = (xtreino_novo.shape[1], xtreino_novo.shape[2])))\n",
        "recorrente.add(Dense(units=1))"
      ],
      "metadata": {
        "id": "jh7HljEUS1F7"
      },
      "execution_count": null,
      "outputs": []
    },
    {
      "cell_type": "markdown",
      "source": [
        "LSTM = memória de longo prazo"
      ],
      "metadata": {
        "id": "WQw0X46aT1ZY"
      }
    },
    {
      "cell_type": "code",
      "source": [
        "recorrente.compile(loss='mean_squared_error', optimizer ='RMSProp')"
      ],
      "metadata": {
        "id": "hy0mBvzlTbWw"
      },
      "execution_count": null,
      "outputs": []
    },
    {
      "cell_type": "code",
      "source": [
        "recorrente.summary()"
      ],
      "metadata": {
        "colab": {
          "base_uri": "https://localhost:8080/"
        },
        "id": "LvnDcyTyTpOP",
        "outputId": "5d650324-601a-42cf-e5dd-34ad2c1c48e3"
      },
      "execution_count": null,
      "outputs": [
        {
          "output_type": "stream",
          "name": "stdout",
          "text": [
            "Model: \"sequential_5\"\n",
            "_________________________________________________________________\n",
            " Layer (type)                Output Shape              Param #   \n",
            "=================================================================\n",
            " lstm_1 (LSTM)               (None, 128)               66560     \n",
            "                                                                 \n",
            " dense_11 (Dense)            (None, 1)                 129       \n",
            "                                                                 \n",
            "=================================================================\n",
            "Total params: 66,689\n",
            "Trainable params: 66,689\n",
            "Non-trainable params: 0\n",
            "_________________________________________________________________\n"
          ]
        }
      ]
    },
    {
      "cell_type": "code",
      "source": [],
      "metadata": {
        "id": "JaXEcSkxTr63"
      },
      "execution_count": null,
      "outputs": []
    }
  ]
}